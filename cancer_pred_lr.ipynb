{
  "nbformat": 4,
  "nbformat_minor": 0,
  "metadata": {
    "colab": {
      "name": "PersonalizedCancerDiagnosis (1).ipynb",
      "provenance": [],
      "collapsed_sections": []
    },
    "language_info": {
      "codemirror_mode": {
        "name": "ipython",
        "version": 3
      },
      "file_extension": ".py",
      "mimetype": "text/x-python",
      "name": "python",
      "nbconvert_exporter": "python",
      "pygments_lexer": "ipython3",
      "version": "3.6.5"
    },
    "kernelspec": {
      "display_name": "Python 3",
      "language": "python",
      "name": "python3"
    },
    "accelerator": "GPU"
  },
  "cells": [
    {
      "cell_type": "markdown",
      "metadata": {
        "id": "xCjRvTxKOQuR"
      },
      "source": [
        "\n",
        "\n",
        "\n",
        "<p style=\"font-size:36px;text-align:center\"> <b>Personalized cancer diagnosis</b> </p>"
      ]
    },
    {
      "cell_type": "markdown",
      "metadata": {
        "id": "ylEEdGq_OQuU"
      },
      "source": [
        "<h1>1. Business Problem</h1>"
      ]
    },
    {
      "cell_type": "markdown",
      "metadata": {
        "id": "enOmIXotOQuV"
      },
      "source": [
        "<h2>1.1. Description</h2>"
      ]
    },
    {
      "cell_type": "markdown",
      "metadata": {
        "id": "_8luKZvfOQuX"
      },
      "source": [
        "<p> Source: https://www.kaggle.com/c/msk-redefining-cancer-treatment/ </p>\n",
        "\n",
        "<h6> Problem statement : </h6>\n",
        "<p> Classify the given genetic variations/mutations based on evidence from text-based clinical literature.</p>"
      ]
    },
    {
      "cell_type": "markdown",
      "metadata": {
        "id": "3AD25TPFOQud"
      },
      "source": [
        "<h1>2. Machine Learning Problem</h1>"
      ]
    },
    {
      "cell_type": "markdown",
      "metadata": {
        "id": "kJilLeTgOQuf"
      },
      "source": [
        "<h2>2.1. Data</h2>"
      ]
    },
    {
      "cell_type": "markdown",
      "metadata": {
        "id": "GAkBG-9JOQuf"
      },
      "source": [
        "<h3>2.1.1. Data Overview</h3>"
      ]
    },
    {
      "cell_type": "markdown",
      "metadata": {
        "id": "_xgJzFEHOQuh"
      },
      "source": [
        "- Source: https://www.kaggle.com/c/msk-redefining-cancer-treatment/data\n",
        "- Two data files: one conatins the information about the genetic mutations and the other contains the clinical evidence (text) that  human experts/pathologists use to classify the genetic mutations. \n",
        "- Both these data files are have a common column called ID\n",
        "- <p> \n",
        "    Data file's information:\n",
        "    <ul> \n",
        "        <li>\n",
        "        training_variants (ID , Gene, Variations, Class)\n",
        "        </li>\n",
        "        <li>\n",
        "        training_text (ID, Text)\n",
        "        </li>\n",
        "    </ul>\n",
        "</p>"
      ]
    },
    {
      "cell_type": "markdown",
      "metadata": {
        "id": "lUV7vz1iOQui"
      },
      "source": [
        "<h3>2.1.2. Example Data</h3>"
      ]
    },
    {
      "cell_type": "markdown",
      "metadata": {
        "id": "t4UYmjTIOQuj"
      },
      "source": [
        "<h6>training_variants</h6>\n",
        "<hr>\n",
        "ID,Gene,Variation,Class<br>\n",
        "0,FAM58A,Truncating Mutations,1 <br>\n",
        "1,CBL,W802*,2 <br>\n",
        "2,CBL,Q249E,2 <br>\n",
        "...\n",
        "\n",
        "<h6> training_text</h6>\n",
        "<hr>\n",
        "ID,Text <br>\n",
        "0||Cyclin-dependent kinases (CDKs) regulate a variety of fundamental cellular processes. CDK10 stands out as one of the last orphan CDKs for which no activating cyclin has been identified and no kinase activity revealed. Previous work has shown that CDK10 silencing increases ETS2 (v-ets erythroblastosis virus E26 oncogene homolog 2)-driven activation of the MAPK pathway, which confers tamoxifen resistance to breast cancer cells. The precise mechanisms by which CDK10 modulates ETS2 activity, and more generally the functions of CDK10, remain elusive. Here we demonstrate that CDK10 is a cyclin-dependent kinase by identifying cyclin M as an activating cyclin. Cyclin M, an orphan cyclin, is the product of FAM58A, whose mutations cause STAR syndrome, a human developmental anomaly whose features include toe syndactyly, telecanthus, and anogenital and renal malformations. We show that STAR syndrome-associated cyclin M mutants are unable to interact with CDK10. Cyclin M silencing phenocopies CDK10 silencing in increasing c-Raf and in conferring tamoxifen resistance to breast cancer cells. CDK10/cyclin M phosphorylates ETS2 in vitro, and in cells it positively controls ETS2 degradation by the proteasome. ETS2 protein levels are increased in cells derived from a STAR patient, and this increase is attributable to decreased cyclin M levels. Altogether, our results reveal an additional regulatory mechanism for ETS2, which plays key roles in cancer and development. They also shed light on the molecular mechanisms underlying STAR syndrome.Cyclin-dependent kinases (CDKs) play a pivotal role in the control of a number of fundamental cellular processes (1). The human genome contains 21 genes encoding proteins that can be considered as members of the CDK family owing to their sequence similarity with bona fide CDKs, those known to be activated by cyclins (2). Although discovered almost 20 y ago (3, 4), CDK10 remains one of the two CDKs without an identified cyclin partner. This knowledge gap has largely impeded the exploration of its biological functions. CDK10 can act as a positive cell cycle regulator in some cells (5, 6) or as a tumor suppressor in others (7, 8). CDK10 interacts with the ETS2 (v-ets erythroblastosis virus E26 oncogene homolog 2) transcription factor and inhibits its transcriptional activity through an unknown mechanism (9). CDK10 knockdown derepresses ETS2, which increases the expression of the c-Raf protein kinase, activates the MAPK pathway, and induces resistance of MCF7 cells to tamoxifen (6). ... "
      ]
    },
    {
      "cell_type": "markdown",
      "metadata": {
        "id": "R3_NkUmXOQuk"
      },
      "source": [
        "<h2>2.2. Mapping the real-world problem to an ML problem</h2>"
      ]
    },
    {
      "cell_type": "markdown",
      "metadata": {
        "id": "89xF097mOQum"
      },
      "source": [
        "<h3>2.2.1. Type of Machine Learning Problem</h3>"
      ]
    },
    {
      "cell_type": "markdown",
      "metadata": {
        "id": "TZqA3ItzOQun"
      },
      "source": [
        "<p>\n",
        "    \n",
        "            There are nine different classes a genetic mutation can be classified into => Multi class classification problem\n",
        "   \n",
        "      \n",
        "    \n",
        "</p>"
      ]
    },
    {
      "cell_type": "markdown",
      "metadata": {
        "id": "9uokTUjYOQuo"
      },
      "source": [
        "<h3>2.2.2. Performance Metric</h3>"
      ]
    },
    {
      "cell_type": "markdown",
      "metadata": {
        "id": "kg0MC7b6OQup"
      },
      "source": [
        "Metric(s): \n",
        "* Multi class log-loss \n",
        "* Confusion matrix \n"
      ]
    },
    {
      "cell_type": "markdown",
      "metadata": {
        "id": "EPkaNa1NOQus"
      },
      "source": [
        "<h2>2.3. Train, CV and Test Datasets</h2>"
      ]
    },
    {
      "cell_type": "markdown",
      "metadata": {
        "id": "rKjsBtT0OQut"
      },
      "source": [
        " Split the dataset randomly into three parts train, cross validation and test with 64%,16%, 20% of data respectively"
      ]
    },
    {
      "cell_type": "markdown",
      "metadata": {
        "id": "j0VVGc0_OQuu"
      },
      "source": [
        "<h1>3. Exploratory Data Analysis</h1>"
      ]
    },
    {
      "cell_type": "code",
      "metadata": {
        "id": "6_tz3SlAOQuv"
      },
      "source": [
        "import pandas as pd\n",
        "import matplotlib.pyplot as plt\n",
        "import re\n",
        "import time\n",
        "import warnings\n",
        "import numpy as np\n",
        "from nltk.corpus import stopwords\n",
        "from sklearn.decomposition import TruncatedSVD\n",
        "from sklearn.preprocessing import normalize\n",
        "from sklearn.feature_extraction.text import CountVectorizer\n",
        "from sklearn.manifold import TSNE\n",
        "import seaborn as sns\n",
        "from sklearn.metrics import confusion_matrix, accuracy_score, log_loss\n",
        "from sklearn.feature_extraction.text import TfidfVectorizer\n",
        "from sklearn.linear_model import SGDClassifier\n",
        "from imblearn.over_sampling import SMOTE\n",
        "from collections import Counter\n",
        "from scipy.sparse import hstack\n",
        "from sklearn.multiclass import OneVsRestClassifier\n",
        "from sklearn.svm import SVC\n",
        "from collections import Counter, defaultdict\n",
        "from sklearn.calibration import CalibratedClassifierCV\n",
        "from sklearn.model_selection import train_test_split, GridSearchCV, StratifiedKFold\n",
        "import math\n",
        "from sklearn.metrics import normalized_mutual_info_score\n",
        "warnings.filterwarnings(\"ignore\")\n",
        "\n",
        "import six\n",
        "import sys\n",
        "sys.modules['sklearn.externals.six'] = six\n",
        "from mlxtend.classifier import StackingClassifier\n",
        "\n",
        "from sklearn import model_selection\n",
        "from sklearn.linear_model import LogisticRegression\n"
      ],
      "execution_count": 1,
      "outputs": []
    },
    {
      "cell_type": "code",
      "metadata": {
        "id": "RaDEZ7oFRhcA"
      },
      "source": [
        "# !wget --header=\"Host: storage.googleapis.com\" --header=\"User-Agent: Mozilla/5.0 (Windows NT 10.0; Win64; x64) AppleWebKit/537.36 (KHTML, like Gecko) Chrome/89.0.4389.114 Safari/537.36\" --header=\"Accept: text/html,application/xhtml+xml,application/xml;q=0.9,image/avif,image/webp,image/apng,*/*;q=0.8,application/signed-exchange;v=b3;q=0.9\" --header=\"Accept-Language: en-US,en;q=0.9\" --header=\"Referer: https://www.kaggle.com/\" \"https://storage.googleapis.com/kagglesdsdata/competitions/6841/44307/training_variants.zip?GoogleAccessId=web-data@kaggle-161607.iam.gserviceaccount.com&Expires=1618224928&Signature=QKXiia8c0QVWmyHkQB%2F75yDoQAFit2%2Ff5CCYqKsd5B982BMBGuHT7uKqP%2FucMeK1Lfv7%2BRyhuOtsTjT0U3xANlFKe%2FhkhrrRirv7sZ8M8O2H9IIJ138p5IxT2riCTe2jqXlrXlqurGikKt%2BzGO6Wt2MhhtrAtiX63nEicy4A4ts0fkUWyGS9Gvmy5h8AkeHLq7NLAnZ7KCmqMCI8JAwzfgJDBek8e1ruFT0DlJja9PQgSi5Byn2du5AWcW%2BTd5u%2F9i%2FZoObJfN%2F5xwxpzphj0bMqs3i2pG%2BRbgV5UpSCbjBaBo3OtWGxyWbV9lm%2FFGSRgOUZnag1vDpVCl9a4fx%2BrQ%3D%3D&response-content-disposition=attachment%3B+filename%3Dtraining_variants.zip\" -c -O 'training_variants.zip'"
      ],
      "execution_count": 2,
      "outputs": []
    },
    {
      "cell_type": "code",
      "metadata": {
        "id": "VjVTX_02Ri9b"
      },
      "source": [
        "# !wget --header=\"Host: storage.googleapis.com\" --header=\"User-Agent: Mozilla/5.0 (Windows NT 10.0; Win64; x64) AppleWebKit/537.36 (KHTML, like Gecko) Chrome/89.0.4389.114 Safari/537.36\" --header=\"Accept: text/html,application/xhtml+xml,application/xml;q=0.9,image/avif,image/webp,image/apng,*/*;q=0.8,application/signed-exchange;v=b3;q=0.9\" --header=\"Accept-Language: en-US,en;q=0.9\" --header=\"Referer: https://www.kaggle.com/\" \"https://storage.googleapis.com/kagglesdsdata/competitions/6841/44307/training_text.zip?GoogleAccessId=web-data@kaggle-161607.iam.gserviceaccount.com&Expires=1618224963&Signature=NiROKonG1Zj515DuyRmvZlj%2BttKOkmc1fefeldOOZnH7Wm2wkBuUmiaOkg61un6X91J%2FG6x63ikQT%2BCaeT0wnuWbQA7lHTnt6gRxOSjJzxDIy05mh8xVv9YLb6o6BHRstyQfJHYHbxAkwas9nHnpeZVaB9MILkYsRdO48BvZ4iThhihTr1BZZLMMTy290bVVpq%2BLf%2FlT191RK14VW2jVVIBN2Q1G49%2FIPpTWgYFnPxLH9r1hrK5bnnBVXKjPKCeIxgOLr8dObskBoITMVVSrU3yzrWu9lG8uLdj%2FkYICnzWf3si2%2BkLKIByT7NTyZTfJUaEEzq4HTYan16zVZU1Yxw%3D%3D&response-content-disposition=attachment%3B+filename%3Dtraining_text.zip\" -c -O 'training_text.zip'"
      ],
      "execution_count": 3,
      "outputs": []
    },
    {
      "cell_type": "code",
      "source": [
        "from google.colab import drive\n",
        "drive.mount('/content/drive')"
      ],
      "metadata": {
        "colab": {
          "base_uri": "https://localhost:8080/"
        },
        "id": "y0bf9fHkIeaw",
        "outputId": "7fdcf2e8-2a01-4993-a130-c7d49aeaed63"
      },
      "execution_count": 4,
      "outputs": [
        {
          "output_type": "stream",
          "name": "stdout",
          "text": [
            "Mounted at /content/drive\n"
          ]
        }
      ]
    },
    {
      "cell_type": "code",
      "source": [
        "!cp '/content/drive/My Drive/pet_project_data/training_text.zip' 'training_text.zip'"
      ],
      "metadata": {
        "id": "QWfxSfKmIh6P"
      },
      "execution_count": 5,
      "outputs": []
    },
    {
      "cell_type": "code",
      "source": [
        "!cp '/content/drive/My Drive/pet_project_data/training_variants.zip' 'training_variants.zip'"
      ],
      "metadata": {
        "id": "r-yw1pTNIoNK"
      },
      "execution_count": 6,
      "outputs": []
    },
    {
      "cell_type": "code",
      "metadata": {
        "colab": {
          "base_uri": "https://localhost:8080/"
        },
        "id": "2yUCW59RRrzl",
        "outputId": "34d6e292-9934-4d26-ef89-3a79fed5623c"
      },
      "source": [
        "!unzip training_text.zip"
      ],
      "execution_count": 7,
      "outputs": [
        {
          "output_type": "stream",
          "name": "stdout",
          "text": [
            "Archive:  training_text.zip\n",
            "  inflating: training_text           \n"
          ]
        }
      ]
    },
    {
      "cell_type": "code",
      "metadata": {
        "colab": {
          "base_uri": "https://localhost:8080/"
        },
        "id": "l0e20MsARr_Y",
        "outputId": "52b181c2-cf38-48ff-d78b-3a736aece410"
      },
      "source": [
        "!unzip training_variants.zip"
      ],
      "execution_count": 8,
      "outputs": [
        {
          "output_type": "stream",
          "name": "stdout",
          "text": [
            "Archive:  training_variants.zip\n",
            "  inflating: training_variants       \n"
          ]
        }
      ]
    },
    {
      "cell_type": "markdown",
      "metadata": {
        "id": "M7AMKFKcOQu1"
      },
      "source": [
        "<h2>3.1. Reading Data</h2>"
      ]
    },
    {
      "cell_type": "markdown",
      "metadata": {
        "id": "aBdBb2H3OQu2"
      },
      "source": [
        "<h3>3.1.1. Reading Gene and Variation Data</h3>"
      ]
    },
    {
      "cell_type": "code",
      "metadata": {
        "id": "0Os-owW1OQu2",
        "colab": {
          "base_uri": "https://localhost:8080/",
          "height": 258
        },
        "outputId": "b2bbab17-fa9d-431b-a93e-88da1d5e7f3a"
      },
      "source": [
        "data = pd.read_csv('training_variants')\n",
        "print('Number of data points : ', data.shape[0])\n",
        "print('Number of features : ', data.shape[1])\n",
        "print('Features : ', data.columns.values)\n",
        "data.head()"
      ],
      "execution_count": 9,
      "outputs": [
        {
          "output_type": "stream",
          "name": "stdout",
          "text": [
            "Number of data points :  3321\n",
            "Number of features :  4\n",
            "Features :  ['ID' 'Gene' 'Variation' 'Class']\n"
          ]
        },
        {
          "output_type": "execute_result",
          "data": {
            "text/html": [
              "<div>\n",
              "<style scoped>\n",
              "    .dataframe tbody tr th:only-of-type {\n",
              "        vertical-align: middle;\n",
              "    }\n",
              "\n",
              "    .dataframe tbody tr th {\n",
              "        vertical-align: top;\n",
              "    }\n",
              "\n",
              "    .dataframe thead th {\n",
              "        text-align: right;\n",
              "    }\n",
              "</style>\n",
              "<table border=\"1\" class=\"dataframe\">\n",
              "  <thead>\n",
              "    <tr style=\"text-align: right;\">\n",
              "      <th></th>\n",
              "      <th>ID</th>\n",
              "      <th>Gene</th>\n",
              "      <th>Variation</th>\n",
              "      <th>Class</th>\n",
              "    </tr>\n",
              "  </thead>\n",
              "  <tbody>\n",
              "    <tr>\n",
              "      <th>0</th>\n",
              "      <td>0</td>\n",
              "      <td>FAM58A</td>\n",
              "      <td>Truncating Mutations</td>\n",
              "      <td>1</td>\n",
              "    </tr>\n",
              "    <tr>\n",
              "      <th>1</th>\n",
              "      <td>1</td>\n",
              "      <td>CBL</td>\n",
              "      <td>W802*</td>\n",
              "      <td>2</td>\n",
              "    </tr>\n",
              "    <tr>\n",
              "      <th>2</th>\n",
              "      <td>2</td>\n",
              "      <td>CBL</td>\n",
              "      <td>Q249E</td>\n",
              "      <td>2</td>\n",
              "    </tr>\n",
              "    <tr>\n",
              "      <th>3</th>\n",
              "      <td>3</td>\n",
              "      <td>CBL</td>\n",
              "      <td>N454D</td>\n",
              "      <td>3</td>\n",
              "    </tr>\n",
              "    <tr>\n",
              "      <th>4</th>\n",
              "      <td>4</td>\n",
              "      <td>CBL</td>\n",
              "      <td>L399V</td>\n",
              "      <td>4</td>\n",
              "    </tr>\n",
              "  </tbody>\n",
              "</table>\n",
              "</div>"
            ],
            "text/plain": [
              "   ID    Gene             Variation  Class\n",
              "0   0  FAM58A  Truncating Mutations      1\n",
              "1   1     CBL                 W802*      2\n",
              "2   2     CBL                 Q249E      2\n",
              "3   3     CBL                 N454D      3\n",
              "4   4     CBL                 L399V      4"
            ]
          },
          "metadata": {},
          "execution_count": 9
        }
      ]
    },
    {
      "cell_type": "markdown",
      "metadata": {
        "id": "6VYO0fvbOQu8"
      },
      "source": [
        "<p>\n",
        "    training/training_variants is a comma separated file containing the description of the genetic mutations used for training. <br>\n",
        "    Fields are \n",
        "    <ul>\n",
        "        <li><b>ID : </b>the id of the row used to link the mutation to the clinical evidence</li>\n",
        "        <li><b>Gene : </b>the gene where this genetic mutation is located </li>\n",
        "        <li><b>Variation : </b>the aminoacid change for this mutations </li>\n",
        "        <li><b>Class :</b> 1-9 the class this genetic mutation has been classified on</li>\n",
        "    </ul>"
      ]
    },
    {
      "cell_type": "markdown",
      "metadata": {
        "id": "RPubFke6OQu9"
      },
      "source": [
        "<h3>3.1.2. Reading Text Data</h3>"
      ]
    },
    {
      "cell_type": "code",
      "metadata": {
        "id": "1i30WJEyOQu9",
        "colab": {
          "base_uri": "https://localhost:8080/",
          "height": 258
        },
        "outputId": "132d6604-177b-4579-f96d-c7d940532c59"
      },
      "source": [
        "# note the seprator in this file\n",
        "data_text =pd.read_csv(\"training_text\",sep=\"\\|\\|\",engine=\"python\",names=[\"ID\",\"TEXT\"],skiprows=1)\n",
        "print('Number of data points : ', data_text.shape[0])\n",
        "print('Number of features : ', data_text.shape[1])\n",
        "print('Features : ', data_text.columns.values)\n",
        "data_text.head()"
      ],
      "execution_count": 10,
      "outputs": [
        {
          "output_type": "stream",
          "name": "stdout",
          "text": [
            "Number of data points :  3321\n",
            "Number of features :  2\n",
            "Features :  ['ID' 'TEXT']\n"
          ]
        },
        {
          "output_type": "execute_result",
          "data": {
            "text/html": [
              "<div>\n",
              "<style scoped>\n",
              "    .dataframe tbody tr th:only-of-type {\n",
              "        vertical-align: middle;\n",
              "    }\n",
              "\n",
              "    .dataframe tbody tr th {\n",
              "        vertical-align: top;\n",
              "    }\n",
              "\n",
              "    .dataframe thead th {\n",
              "        text-align: right;\n",
              "    }\n",
              "</style>\n",
              "<table border=\"1\" class=\"dataframe\">\n",
              "  <thead>\n",
              "    <tr style=\"text-align: right;\">\n",
              "      <th></th>\n",
              "      <th>ID</th>\n",
              "      <th>TEXT</th>\n",
              "    </tr>\n",
              "  </thead>\n",
              "  <tbody>\n",
              "    <tr>\n",
              "      <th>0</th>\n",
              "      <td>0</td>\n",
              "      <td>Cyclin-dependent kinases (CDKs) regulate a var...</td>\n",
              "    </tr>\n",
              "    <tr>\n",
              "      <th>1</th>\n",
              "      <td>1</td>\n",
              "      <td>Abstract Background  Non-small cell lung canc...</td>\n",
              "    </tr>\n",
              "    <tr>\n",
              "      <th>2</th>\n",
              "      <td>2</td>\n",
              "      <td>Abstract Background  Non-small cell lung canc...</td>\n",
              "    </tr>\n",
              "    <tr>\n",
              "      <th>3</th>\n",
              "      <td>3</td>\n",
              "      <td>Recent evidence has demonstrated that acquired...</td>\n",
              "    </tr>\n",
              "    <tr>\n",
              "      <th>4</th>\n",
              "      <td>4</td>\n",
              "      <td>Oncogenic mutations in the monomeric Casitas B...</td>\n",
              "    </tr>\n",
              "  </tbody>\n",
              "</table>\n",
              "</div>"
            ],
            "text/plain": [
              "   ID                                               TEXT\n",
              "0   0  Cyclin-dependent kinases (CDKs) regulate a var...\n",
              "1   1   Abstract Background  Non-small cell lung canc...\n",
              "2   2   Abstract Background  Non-small cell lung canc...\n",
              "3   3  Recent evidence has demonstrated that acquired...\n",
              "4   4  Oncogenic mutations in the monomeric Casitas B..."
            ]
          },
          "metadata": {},
          "execution_count": 10
        }
      ]
    },
    {
      "cell_type": "markdown",
      "metadata": {
        "id": "ZSy3O7VvOQvC"
      },
      "source": [
        "<h3>3.1.3. Preprocessing of text</h3>"
      ]
    },
    {
      "cell_type": "code",
      "metadata": {
        "colab": {
          "base_uri": "https://localhost:8080/"
        },
        "id": "zDWQmo4HScKF",
        "outputId": "741a5e98-0470-4edc-ad5c-cfe1c85a0e95"
      },
      "source": [
        "import nltk\n",
        "nltk.download('stopwords')"
      ],
      "execution_count": 11,
      "outputs": [
        {
          "output_type": "stream",
          "name": "stdout",
          "text": [
            "[nltk_data] Downloading package stopwords to /root/nltk_data...\n",
            "[nltk_data]   Unzipping corpora/stopwords.zip.\n"
          ]
        },
        {
          "output_type": "execute_result",
          "data": {
            "text/plain": [
              "True"
            ]
          },
          "metadata": {},
          "execution_count": 11
        }
      ]
    },
    {
      "cell_type": "code",
      "metadata": {
        "id": "Y9RpP_0QOQvD"
      },
      "source": [
        "# loading stop words from nltk library\n",
        "stop_words = set(stopwords.words('english'))\n",
        "\n",
        "\n",
        "def nlp_preprocessing(total_text, index, column):\n",
        "    if type(total_text) is not int:\n",
        "        string = \"\"\n",
        "        # replace every special char with space\n",
        "        total_text = re.sub('[^a-zA-Z0-9\\n]', ' ', total_text)\n",
        "        # replace multiple spaces with single space\n",
        "        total_text = re.sub('\\s+',' ', total_text)\n",
        "        # converting all the chars into lower-case.\n",
        "        total_text = total_text.lower()\n",
        "        \n",
        "        for word in total_text.split():\n",
        "        # if the word is a not a stop word then retain that word from the data\n",
        "            if not word in stop_words:\n",
        "                string += word + \" \"\n",
        "        \n",
        "        data_text[column][index] = string"
      ],
      "execution_count": 12,
      "outputs": []
    },
    {
      "cell_type": "code",
      "metadata": {
        "id": "lkCyyQm6OQvH",
        "colab": {
          "base_uri": "https://localhost:8080/"
        },
        "outputId": "d7d859f5-3f57-4c3f-b3a2-a981b8386bcb"
      },
      "source": [
        "#text processing stage.\n",
        "start_time = time.clock()\n",
        "for index, row in data_text.iterrows():\n",
        "    if type(row['TEXT']) is str:\n",
        "        nlp_preprocessing(row['TEXT'], index, 'TEXT')\n",
        "    else:\n",
        "        print(\"there is no text description for id:\",index)\n",
        "print('Time took for preprocessing the text :',time.clock() - start_time, \"seconds\")"
      ],
      "execution_count": 13,
      "outputs": [
        {
          "output_type": "stream",
          "name": "stdout",
          "text": [
            "there is no text description for id: 1109\n",
            "there is no text description for id: 1277\n",
            "there is no text description for id: 1407\n",
            "there is no text description for id: 1639\n",
            "there is no text description for id: 2755\n",
            "Time took for preprocessing the text : 29.934182 seconds\n"
          ]
        }
      ]
    },
    {
      "cell_type": "code",
      "metadata": {
        "id": "qk8gHyNhOQvL",
        "colab": {
          "base_uri": "https://localhost:8080/",
          "height": 206
        },
        "outputId": "8060632e-eb80-4b53-c9f5-4ee3f3ee3ab9"
      },
      "source": [
        "#merging both gene_variations and text data based on ID\n",
        "result = pd.merge(data, data_text,on='ID', how='left')\n",
        "result.head()"
      ],
      "execution_count": 14,
      "outputs": [
        {
          "output_type": "execute_result",
          "data": {
            "text/html": [
              "<div>\n",
              "<style scoped>\n",
              "    .dataframe tbody tr th:only-of-type {\n",
              "        vertical-align: middle;\n",
              "    }\n",
              "\n",
              "    .dataframe tbody tr th {\n",
              "        vertical-align: top;\n",
              "    }\n",
              "\n",
              "    .dataframe thead th {\n",
              "        text-align: right;\n",
              "    }\n",
              "</style>\n",
              "<table border=\"1\" class=\"dataframe\">\n",
              "  <thead>\n",
              "    <tr style=\"text-align: right;\">\n",
              "      <th></th>\n",
              "      <th>ID</th>\n",
              "      <th>Gene</th>\n",
              "      <th>Variation</th>\n",
              "      <th>Class</th>\n",
              "      <th>TEXT</th>\n",
              "    </tr>\n",
              "  </thead>\n",
              "  <tbody>\n",
              "    <tr>\n",
              "      <th>0</th>\n",
              "      <td>0</td>\n",
              "      <td>FAM58A</td>\n",
              "      <td>Truncating Mutations</td>\n",
              "      <td>1</td>\n",
              "      <td>cyclin dependent kinases cdks regulate variety...</td>\n",
              "    </tr>\n",
              "    <tr>\n",
              "      <th>1</th>\n",
              "      <td>1</td>\n",
              "      <td>CBL</td>\n",
              "      <td>W802*</td>\n",
              "      <td>2</td>\n",
              "      <td>abstract background non small cell lung cancer...</td>\n",
              "    </tr>\n",
              "    <tr>\n",
              "      <th>2</th>\n",
              "      <td>2</td>\n",
              "      <td>CBL</td>\n",
              "      <td>Q249E</td>\n",
              "      <td>2</td>\n",
              "      <td>abstract background non small cell lung cancer...</td>\n",
              "    </tr>\n",
              "    <tr>\n",
              "      <th>3</th>\n",
              "      <td>3</td>\n",
              "      <td>CBL</td>\n",
              "      <td>N454D</td>\n",
              "      <td>3</td>\n",
              "      <td>recent evidence demonstrated acquired uniparen...</td>\n",
              "    </tr>\n",
              "    <tr>\n",
              "      <th>4</th>\n",
              "      <td>4</td>\n",
              "      <td>CBL</td>\n",
              "      <td>L399V</td>\n",
              "      <td>4</td>\n",
              "      <td>oncogenic mutations monomeric casitas b lineag...</td>\n",
              "    </tr>\n",
              "  </tbody>\n",
              "</table>\n",
              "</div>"
            ],
            "text/plain": [
              "   ID    Gene  ... Class                                               TEXT\n",
              "0   0  FAM58A  ...     1  cyclin dependent kinases cdks regulate variety...\n",
              "1   1     CBL  ...     2  abstract background non small cell lung cancer...\n",
              "2   2     CBL  ...     2  abstract background non small cell lung cancer...\n",
              "3   3     CBL  ...     3  recent evidence demonstrated acquired uniparen...\n",
              "4   4     CBL  ...     4  oncogenic mutations monomeric casitas b lineag...\n",
              "\n",
              "[5 rows x 5 columns]"
            ]
          },
          "metadata": {},
          "execution_count": 14
        }
      ]
    },
    {
      "cell_type": "code",
      "metadata": {
        "id": "z4ITDIVDOQvQ",
        "colab": {
          "base_uri": "https://localhost:8080/",
          "height": 206
        },
        "outputId": "fef14b49-2c0f-4f44-9899-1a63d2e133f0"
      },
      "source": [
        "result[result.isnull().any(axis=1)]"
      ],
      "execution_count": 15,
      "outputs": [
        {
          "output_type": "execute_result",
          "data": {
            "text/html": [
              "<div>\n",
              "<style scoped>\n",
              "    .dataframe tbody tr th:only-of-type {\n",
              "        vertical-align: middle;\n",
              "    }\n",
              "\n",
              "    .dataframe tbody tr th {\n",
              "        vertical-align: top;\n",
              "    }\n",
              "\n",
              "    .dataframe thead th {\n",
              "        text-align: right;\n",
              "    }\n",
              "</style>\n",
              "<table border=\"1\" class=\"dataframe\">\n",
              "  <thead>\n",
              "    <tr style=\"text-align: right;\">\n",
              "      <th></th>\n",
              "      <th>ID</th>\n",
              "      <th>Gene</th>\n",
              "      <th>Variation</th>\n",
              "      <th>Class</th>\n",
              "      <th>TEXT</th>\n",
              "    </tr>\n",
              "  </thead>\n",
              "  <tbody>\n",
              "    <tr>\n",
              "      <th>1109</th>\n",
              "      <td>1109</td>\n",
              "      <td>FANCA</td>\n",
              "      <td>S1088F</td>\n",
              "      <td>1</td>\n",
              "      <td>NaN</td>\n",
              "    </tr>\n",
              "    <tr>\n",
              "      <th>1277</th>\n",
              "      <td>1277</td>\n",
              "      <td>ARID5B</td>\n",
              "      <td>Truncating Mutations</td>\n",
              "      <td>1</td>\n",
              "      <td>NaN</td>\n",
              "    </tr>\n",
              "    <tr>\n",
              "      <th>1407</th>\n",
              "      <td>1407</td>\n",
              "      <td>FGFR3</td>\n",
              "      <td>K508M</td>\n",
              "      <td>6</td>\n",
              "      <td>NaN</td>\n",
              "    </tr>\n",
              "    <tr>\n",
              "      <th>1639</th>\n",
              "      <td>1639</td>\n",
              "      <td>FLT1</td>\n",
              "      <td>Amplification</td>\n",
              "      <td>6</td>\n",
              "      <td>NaN</td>\n",
              "    </tr>\n",
              "    <tr>\n",
              "      <th>2755</th>\n",
              "      <td>2755</td>\n",
              "      <td>BRAF</td>\n",
              "      <td>G596C</td>\n",
              "      <td>7</td>\n",
              "      <td>NaN</td>\n",
              "    </tr>\n",
              "  </tbody>\n",
              "</table>\n",
              "</div>"
            ],
            "text/plain": [
              "        ID    Gene             Variation  Class TEXT\n",
              "1109  1109   FANCA                S1088F      1  NaN\n",
              "1277  1277  ARID5B  Truncating Mutations      1  NaN\n",
              "1407  1407   FGFR3                 K508M      6  NaN\n",
              "1639  1639    FLT1         Amplification      6  NaN\n",
              "2755  2755    BRAF                 G596C      7  NaN"
            ]
          },
          "metadata": {},
          "execution_count": 15
        }
      ]
    },
    {
      "cell_type": "code",
      "metadata": {
        "id": "co1v4XZ7OQvU"
      },
      "source": [
        "result.loc[result['TEXT'].isnull(),'TEXT'] = result['Gene'] +' '+result['Variation']"
      ],
      "execution_count": 16,
      "outputs": []
    },
    {
      "cell_type": "code",
      "metadata": {
        "id": "TEzTARDBOQvX",
        "colab": {
          "base_uri": "https://localhost:8080/",
          "height": 81
        },
        "outputId": "c162c6de-d5fe-49d2-8dca-fd7b0bf93bdd"
      },
      "source": [
        "result[result['ID']==1109]"
      ],
      "execution_count": 17,
      "outputs": [
        {
          "output_type": "execute_result",
          "data": {
            "text/html": [
              "<div>\n",
              "<style scoped>\n",
              "    .dataframe tbody tr th:only-of-type {\n",
              "        vertical-align: middle;\n",
              "    }\n",
              "\n",
              "    .dataframe tbody tr th {\n",
              "        vertical-align: top;\n",
              "    }\n",
              "\n",
              "    .dataframe thead th {\n",
              "        text-align: right;\n",
              "    }\n",
              "</style>\n",
              "<table border=\"1\" class=\"dataframe\">\n",
              "  <thead>\n",
              "    <tr style=\"text-align: right;\">\n",
              "      <th></th>\n",
              "      <th>ID</th>\n",
              "      <th>Gene</th>\n",
              "      <th>Variation</th>\n",
              "      <th>Class</th>\n",
              "      <th>TEXT</th>\n",
              "    </tr>\n",
              "  </thead>\n",
              "  <tbody>\n",
              "    <tr>\n",
              "      <th>1109</th>\n",
              "      <td>1109</td>\n",
              "      <td>FANCA</td>\n",
              "      <td>S1088F</td>\n",
              "      <td>1</td>\n",
              "      <td>FANCA S1088F</td>\n",
              "    </tr>\n",
              "  </tbody>\n",
              "</table>\n",
              "</div>"
            ],
            "text/plain": [
              "        ID   Gene Variation  Class          TEXT\n",
              "1109  1109  FANCA    S1088F      1  FANCA S1088F"
            ]
          },
          "metadata": {},
          "execution_count": 17
        }
      ]
    },
    {
      "cell_type": "markdown",
      "metadata": {
        "id": "4ha0M1aOOQvg"
      },
      "source": [
        "<h3>3.1.4. Test, Train and Cross Validation Split</h3>"
      ]
    },
    {
      "cell_type": "markdown",
      "metadata": {
        "id": "Mb_GBIh1OQvi"
      },
      "source": [
        "<h4>3.1.4.1. Splitting data into train, test and cross validation (64:20:16)</h4>"
      ]
    },
    {
      "cell_type": "code",
      "metadata": {
        "id": "ijj-MmMwOQvk"
      },
      "source": [
        "y_true = result['Class'].values\n",
        "result.Gene      = result.Gene.str.replace('\\s+', '_')\n",
        "result.Variation = result.Variation.str.replace('\\s+', '_')\n",
        "\n",
        "# split the data into test and train by maintaining same distribution of output varaible 'y_true' [stratify=y_true]\n",
        "X_train, test_df, y_train, y_test = train_test_split(result, y_true, stratify=y_true, test_size=0.2)\n",
        "# split the train data into train and cross validation by maintaining same distribution of output varaible 'y_train' [stratify=y_train]\n",
        "train_df, cv_df, y_train, y_cv = train_test_split(X_train, y_train, stratify=y_train, test_size=0.2)"
      ],
      "execution_count": 18,
      "outputs": []
    },
    {
      "cell_type": "markdown",
      "metadata": {
        "id": "oWPLX4M9OQvo"
      },
      "source": [
        "<p> We split the data into train, test and cross validation data sets, preserving the ratio of class distribution in the original data set  </p>"
      ]
    },
    {
      "cell_type": "code",
      "metadata": {
        "id": "wbzQMYZWOQvp",
        "colab": {
          "base_uri": "https://localhost:8080/"
        },
        "outputId": "6fcdb0d7-3322-40ac-d773-687cb41c5b77"
      },
      "source": [
        "print('Number of data points in train data:', train_df.shape[0])\n",
        "print('Number of data points in test data:', test_df.shape[0])\n",
        "print('Number of data points in cross validation data:', cv_df.shape[0])"
      ],
      "execution_count": 19,
      "outputs": [
        {
          "output_type": "stream",
          "name": "stdout",
          "text": [
            "Number of data points in train data: 2124\n",
            "Number of data points in test data: 665\n",
            "Number of data points in cross validation data: 532\n"
          ]
        }
      ]
    },
    {
      "cell_type": "markdown",
      "metadata": {
        "id": "NQeo-HuDOQvs"
      },
      "source": [
        "<h4>3.1.4.2. Distribution of y_i's in Train, Test and Cross Validation datasets</h4>"
      ]
    },
    {
      "cell_type": "code",
      "metadata": {
        "id": "KC3KErJmOQvt",
        "colab": {
          "base_uri": "https://localhost:8080/",
          "height": 1000
        },
        "outputId": "8608085a-d0b0-4c23-ade1-6ee5f204d02d"
      },
      "source": [
        "# it returns a dict, keys as class labels and values as the number of data points in that class\n",
        "train_class_distribution = train_df['Class'].value_counts().sort_index()\n",
        "test_class_distribution = test_df['Class'].value_counts().sort_index()\n",
        "cv_class_distribution = cv_df['Class'].value_counts().sort_index()\n",
        "\n",
        "my_colors = 'rgbkymc'\n",
        "train_class_distribution.plot(kind='bar')\n",
        "plt.xlabel('Class')\n",
        "plt.ylabel('Data points per Class')\n",
        "plt.title('Distribution of yi in train data')\n",
        "plt.grid()\n",
        "plt.show()\n",
        "\n",
        "# the minus sign will give us in decreasing order\n",
        "sorted_yi = np.argsort(-train_class_distribution.values)\n",
        "for i in sorted_yi:\n",
        "    print('Number of data points in class', i+1, ':',train_class_distribution.values[i], '(', np.round((train_class_distribution.values[i]/train_df.shape[0]*100), 3), '%)')\n",
        "\n",
        "print('-'*80)\n",
        "my_colors = 'rgbkymc'\n",
        "test_class_distribution.plot(kind='bar')\n",
        "plt.xlabel('Class')\n",
        "plt.ylabel('Data points per Class')\n",
        "plt.title('Distribution of yi in test data')\n",
        "plt.grid()\n",
        "plt.show()\n",
        "\n",
        "sorted_yi = np.argsort(-test_class_distribution.values)\n",
        "for i in sorted_yi:\n",
        "    print('Number of data points in class', i+1, ':',test_class_distribution.values[i], '(', np.round((test_class_distribution.values[i]/test_df.shape[0]*100), 3), '%)')\n",
        "\n",
        "print('-'*80)\n",
        "my_colors = 'rgbkymc'\n",
        "cv_class_distribution.plot(kind='bar')\n",
        "plt.xlabel('Class')\n",
        "plt.ylabel('Data points per Class')\n",
        "plt.title('Distribution of yi in cross validation data')\n",
        "plt.grid()\n",
        "plt.show()\n",
        "\n",
        "sorted_yi = np.argsort(-train_class_distribution.values)\n",
        "for i in sorted_yi:\n",
        "    print('Number of data points in class', i+1, ':',cv_class_distribution.values[i], '(', np.round((cv_class_distribution.values[i]/cv_df.shape[0]*100), 3), '%)')\n"
      ],
      "execution_count": 20,
      "outputs": [
        {
          "output_type": "display_data",
          "data": {
            "image/png": "[encoded data removed]",
            "text/plain": [
              "<Figure size 432x288 with 1 Axes>"
            ]
          },
          "metadata": {
            "needs_background": "light"
          }
        },
        {
          "output_type": "stream",
          "name": "stdout",
          "text": [
            "Number of data points in class 7 : 609 ( 28.672 %)\n",
            "Number of data points in class 4 : 439 ( 20.669 %)\n",
            "Number of data points in class 1 : 363 ( 17.09 %)\n",
            "Number of data points in class 2 : 289 ( 13.606 %)\n",
            "Number of data points in class 6 : 176 ( 8.286 %)\n",
            "Number of data points in class 5 : 155 ( 7.298 %)\n",
            "Number of data points in class 3 : 57 ( 2.684 %)\n",
            "Number of data points in class 9 : 24 ( 1.13 %)\n",
            "Number of data points in class 8 : 12 ( 0.565 %)\n",
            "--------------------------------------------------------------------------------\n"
          ]
        },
        {
          "output_type": "display_data",
          "data": {
            "image/png": "[encoded data removed]",
            "text/plain": [
              "<Figure size 432x288 with 1 Axes>"
            ]
          },
          "metadata": {
            "needs_background": "light"
          }
        },
        {
          "output_type": "stream",
          "name": "stdout",
          "text": [
            "Number of data points in class 7 : 191 ( 28.722 %)\n",
            "Number of data points in class 4 : 137 ( 20.602 %)\n",
            "Number of data points in class 1 : 114 ( 17.143 %)\n",
            "Number of data points in class 2 : 91 ( 13.684 %)\n",
            "Number of data points in class 6 : 55 ( 8.271 %)\n",
            "Number of data points in class 5 : 48 ( 7.218 %)\n",
            "Number of data points in class 3 : 18 ( 2.707 %)\n",
            "Number of data points in class 9 : 7 ( 1.053 %)\n",
            "Number of data points in class 8 : 4 ( 0.602 %)\n",
            "--------------------------------------------------------------------------------\n"
          ]
        },
        {
          "output_type": "display_data",
          "data": {
            "image/png": "[encoded data removed]",
            "text/plain": [
              "<Figure size 432x288 with 1 Axes>"
            ]
          },
          "metadata": {
            "needs_background": "light"
          }
        },
        {
          "output_type": "stream",
          "name": "stdout",
          "text": [
            "Number of data points in class 7 : 153 ( 28.759 %)\n",
            "Number of data points in class 4 : 110 ( 20.677 %)\n",
            "Number of data points in class 1 : 91 ( 17.105 %)\n",
            "Number of data points in class 2 : 72 ( 13.534 %)\n",
            "Number of data points in class 6 : 44 ( 8.271 %)\n",
            "Number of data points in class 5 : 39 ( 7.331 %)\n",
            "Number of data points in class 3 : 14 ( 2.632 %)\n",
            "Number of data points in class 9 : 6 ( 1.128 %)\n",
            "Number of data points in class 8 : 3 ( 0.564 %)\n"
          ]
        }
      ]
    },
    {
      "cell_type": "code",
      "metadata": {
        "id": "9quvnOcWOQvx"
      },
      "source": [
        "# This function plots the confusion matrices given y_i, y_i_hat.\n",
        "def plot_confusion_matrix(test_y, predict_y):\n",
        "    C = confusion_matrix(test_y, predict_y)\n",
        "    # C = 9,9 matrix, each cell (i,j) represents number of points of class i are predicted class j\n",
        "    \n",
        "    A =(((C.T)/(C.sum(axis=1))).T)\n",
        "    #divid each element of the confusion matrix with the sum of elements in that column\n",
        "    \n",
        "    # C = [[1, 2],\n",
        "    #     [3, 4]]\n",
        "    # C.T = [[1, 3],\n",
        "    #        [2, 4]]\n",
        "    # C.sum(axis = 1)  axis=0 corresonds to columns and axis=1 corresponds to rows in two diamensional array\n",
        "    # C.sum(axix =1) = [[3, 7]]\n",
        "    # ((C.T)/(C.sum(axis=1))) = [[1/3, 3/7]\n",
        "    #                           [2/3, 4/7]]\n",
        "\n",
        "    # ((C.T)/(C.sum(axis=1))).T = [[1/3, 2/3]\n",
        "    #                           [3/7, 4/7]]\n",
        "    # sum of row elements = 1\n",
        "    \n",
        "    B =(C/C.sum(axis=0))\n",
        "    #divid each element of the confusion matrix with the sum of elements in that row\n",
        "    # C = [[1, 2],\n",
        "    #     [3, 4]]\n",
        "    # C.sum(axis = 0)  axis=0 corresonds to columns and axis=1 corresponds to rows in two diamensional array\n",
        "    # C.sum(axix =0) = [[4, 6]]\n",
        "    # (C/C.sum(axis=0)) = [[1/4, 2/6],\n",
        "    #                      [3/4, 4/6]] \n",
        "    \n",
        "    labels = [1,2,3,4,5,6,7,8,9]\n",
        "    # representing A in heatmap format\n",
        "    print(\"-\"*20, \"Confusion matrix\", \"-\"*20)\n",
        "    plt.figure(figsize=(20,7))\n",
        "    sns.heatmap(C, annot=True, cmap=\"YlGnBu\", fmt=\".3f\", xticklabels=labels, yticklabels=labels)\n",
        "    plt.xlabel('Predicted Class')\n",
        "    plt.ylabel('Original Class')\n",
        "    plt.show()\n",
        "\n",
        "    print(\"-\"*20, \"Precision matrix (Columm Sum=1)\", \"-\"*20)\n",
        "    plt.figure(figsize=(20,7))\n",
        "    sns.heatmap(B, annot=True, cmap=\"YlGnBu\", fmt=\".3f\", xticklabels=labels, yticklabels=labels)\n",
        "    plt.xlabel('Predicted Class')\n",
        "    plt.ylabel('Original Class')\n",
        "    plt.show()\n",
        "    \n",
        "    # representing B in heatmap format\n",
        "    print(\"-\"*20, \"Recall matrix (Row sum=1)\", \"-\"*20)\n",
        "    plt.figure(figsize=(20,7))\n",
        "    sns.heatmap(A, annot=True, cmap=\"YlGnBu\", fmt=\".3f\", xticklabels=labels, yticklabels=labels)\n",
        "    plt.xlabel('Predicted Class')\n",
        "    plt.ylabel('Original Class')\n",
        "    plt.show()"
      ],
      "execution_count": 21,
      "outputs": []
    },
    {
      "cell_type": "markdown",
      "metadata": {
        "id": "tIy5AKY7OQv2"
      },
      "source": [
        "<h2>3.3 Univariate Analysis</h2>"
      ]
    },
    {
      "cell_type": "code",
      "metadata": {
        "id": "glsAAhozOQv3"
      },
      "source": [
        "# code for response coding with Laplace smoothing.\n",
        "# alpha : used for laplace smoothing\n",
        "# feature: ['gene', 'variation']\n",
        "# df: ['train_df', 'test_df', 'cv_df']\n",
        "# algorithm\n",
        "# ----------\n",
        "# Consider all unique values and the number of occurances of given feature in train data dataframe\n",
        "# build a vector (1*9) , the first element = (number of times it occured in class1 + 10*alpha / number of time it occurred in total data+90*alpha)\n",
        "# gv_dict is like a look up table, for every gene it store a (1*9) representation of it\n",
        "# for a value of feature in df:\n",
        "# if it is in train data:\n",
        "# we add the vector that was stored in 'gv_dict' look up table to 'gv_fea'\n",
        "# if it is not there is train:\n",
        "# we add [1/9, 1/9, 1/9, 1/9,1/9, 1/9, 1/9, 1/9, 1/9] to 'gv_fea'\n",
        "# return 'gv_fea'\n",
        "# ----------------------\n",
        "\n",
        "# get_gv_fea_dict: Get Gene varaition Feature Dict\n",
        "def get_gv_fea_dict(alpha, feature, df):\n",
        "    # value_count: it contains a dict like\n",
        "    # print(train_df['Gene'].value_counts())\n",
        "    # output:\n",
        "    #        {BRCA1      174\n",
        "    #         TP53       106\n",
        "    #         EGFR        86\n",
        "    #         BRCA2       75\n",
        "    #         PTEN        69\n",
        "    #         KIT         61\n",
        "    #         BRAF        60\n",
        "    #         ERBB2       47\n",
        "    #         PDGFRA      46\n",
        "    #         ...}\n",
        "    # print(train_df['Variation'].value_counts())\n",
        "    # output:\n",
        "    # {\n",
        "    # Truncating_Mutations                     63\n",
        "    # Deletion                                 43\n",
        "    # Amplification                            43\n",
        "    # Fusions                                  22\n",
        "    # Overexpression                            3\n",
        "    # E17K                                      3\n",
        "    # Q61L                                      3\n",
        "    # S222D                                     2\n",
        "    # P130S                                     2\n",
        "    # ...\n",
        "    # }\n",
        "    value_count = train_df[feature].value_counts()\n",
        "    \n",
        "    # gv_dict : Gene Variation Dict, which contains the probability array for each gene/variation\n",
        "    gv_dict = dict()\n",
        "    \n",
        "    # denominator will contain the number of time that particular feature occured in whole data\n",
        "    for i, denominator in value_count.items():\n",
        "        # vec will contain (p(yi==1/Gi) probability of gene/variation belongs to perticular class\n",
        "        # vec is 9 diamensional vector\n",
        "        vec = []\n",
        "        for k in range(1,10):\n",
        "            # print(train_df.loc[(train_df['Class']==1) & (train_df['Gene']=='BRCA1')])\n",
        "            #         ID   Gene             Variation  Class  \n",
        "            # 2470  2470  BRCA1                S1715C      1   \n",
        "            # 2486  2486  BRCA1                S1841R      1   \n",
        "            # 2614  2614  BRCA1                   M1R      1   \n",
        "            # 2432  2432  BRCA1                L1657P      1   \n",
        "            # 2567  2567  BRCA1                T1685A      1   \n",
        "            # 2583  2583  BRCA1                E1660G      1   \n",
        "            # 2634  2634  BRCA1                W1718L      1   \n",
        "            # cls_cnt.shape[0] will return the number of rows\n",
        "\n",
        "            cls_cnt = train_df.loc[(train_df['Class']==k) & (train_df[feature]==i)]\n",
        "            \n",
        "            # cls_cnt.shape[0](numerator) will contain the number of time that particular feature occured in whole data\n",
        "            vec.append((cls_cnt.shape[0] + alpha*10)/ (denominator + 90*alpha))\n",
        "\n",
        "        # we are adding the gene/variation to the dict as key and vec as value\n",
        "        gv_dict[i]=vec\n",
        "    return gv_dict\n",
        "\n",
        "# Get Gene variation feature\n",
        "def get_gv_feature(alpha, feature, df):\n",
        "    # print(gv_dict)\n",
        "    #     {'BRCA1': [0.20075757575757575, 0.03787878787878788, 0.068181818181818177, 0.13636363636363635, 0.25, 0.19318181818181818, 0.03787878787878788, 0.03787878787878788, 0.03787878787878788], \n",
        "    #      'TP53': [0.32142857142857145, 0.061224489795918366, 0.061224489795918366, 0.27040816326530615, 0.061224489795918366, 0.066326530612244902, 0.051020408163265307, 0.051020408163265307, 0.056122448979591837], \n",
        "    #      'EGFR': [0.056818181818181816, 0.21590909090909091, 0.0625, 0.068181818181818177, 0.068181818181818177, 0.0625, 0.34659090909090912, 0.0625, 0.056818181818181816], \n",
        "    #      'BRCA2': [0.13333333333333333, 0.060606060606060608, 0.060606060606060608, 0.078787878787878782, 0.1393939393939394, 0.34545454545454546, 0.060606060606060608, 0.060606060606060608, 0.060606060606060608], \n",
        "    #      'PTEN': [0.069182389937106917, 0.062893081761006289, 0.069182389937106917, 0.46540880503144655, 0.075471698113207544, 0.062893081761006289, 0.069182389937106917, 0.062893081761006289, 0.062893081761006289], \n",
        "    #      'KIT': [0.066225165562913912, 0.25165562913907286, 0.072847682119205295, 0.072847682119205295, 0.066225165562913912, 0.066225165562913912, 0.27152317880794702, 0.066225165562913912, 0.066225165562913912], \n",
        "    #      'BRAF': [0.066666666666666666, 0.17999999999999999, 0.073333333333333334, 0.073333333333333334, 0.093333333333333338, 0.080000000000000002, 0.29999999999999999, 0.066666666666666666, 0.066666666666666666],\n",
        "    #      ...\n",
        "    #     }\n",
        "    gv_dict = get_gv_fea_dict(alpha, feature, df)\n",
        "    # value_count is similar in get_gv_fea_dict\n",
        "    value_count = train_df[feature].value_counts()\n",
        "    \n",
        "    # gv_fea: Gene_variation feature, it will contain the feature for each feature value in the data\n",
        "    gv_fea = []\n",
        "    # for every feature values in the given data frame we will check if it is there in the train data then we will add the feature to gv_fea\n",
        "    # if not we will add [1/9,1/9,1/9,1/9,1/9,1/9,1/9,1/9,1/9] to gv_fea\n",
        "    for index, row in df.iterrows():\n",
        "        if row[feature] in dict(value_count).keys():\n",
        "            gv_fea.append(gv_dict[row[feature]])\n",
        "        else:\n",
        "            gv_fea.append([1/9,1/9,1/9,1/9,1/9,1/9,1/9,1/9,1/9])\n",
        "#             gv_fea.append([-1,-1,-1,-1,-1,-1,-1,-1,-1])\n",
        "    return gv_fea"
      ],
      "execution_count": 22,
      "outputs": []
    },
    {
      "cell_type": "markdown",
      "metadata": {
        "id": "ShBOxDTyOQv5"
      },
      "source": [
        "when we caculate the probability of a feature belongs to any particular class, we apply laplace smoothing\n",
        "<li>(numerator + 10\\*alpha) / (denominator + 90\\*alpha) </li>"
      ]
    },
    {
      "cell_type": "markdown",
      "metadata": {
        "id": "Burwv7NcOQv6"
      },
      "source": [
        "<h3>3.2.1 Univariate Analysis on Gene Feature</h3>"
      ]
    },
    {
      "cell_type": "code",
      "metadata": {
        "id": "r4VErpbnOQv8",
        "colab": {
          "base_uri": "https://localhost:8080/"
        },
        "outputId": "45dd972e-b40b-4f09-c5eb-bdac61b6328b"
      },
      "source": [
        "unique_genes = train_df['Gene'].value_counts()\n",
        "print('Number of Unique Genes :', unique_genes.shape[0])\n",
        "# the top 10 genes that occured most\n",
        "print(unique_genes.head(10))"
      ],
      "execution_count": 23,
      "outputs": [
        {
          "output_type": "stream",
          "name": "stdout",
          "text": [
            "Number of Unique Genes : 235\n",
            "BRCA1     169\n",
            "TP53      103\n",
            "EGFR       88\n",
            "PTEN       81\n",
            "BRCA2      72\n",
            "KIT        57\n",
            "BRAF       52\n",
            "ALK        45\n",
            "ERBB2      45\n",
            "PIK3CA     39\n",
            "Name: Gene, dtype: int64\n"
          ]
        }
      ]
    },
    {
      "cell_type": "code",
      "metadata": {
        "scrolled": true,
        "id": "T5cMcwH-OQwD",
        "colab": {
          "base_uri": "https://localhost:8080/"
        },
        "outputId": "01f1b272-6365-4127-b209-7558a5af0a43"
      },
      "source": [
        "print(\"There are\", unique_genes.shape[0] ,\"different categories of genes in the train data, and they are distibuted as follows\",)"
      ],
      "execution_count": 24,
      "outputs": [
        {
          "output_type": "stream",
          "name": "stdout",
          "text": [
            "There are 235 different categories of genes in the train data, and they are distibuted as follows\n"
          ]
        }
      ]
    },
    {
      "cell_type": "code",
      "metadata": {
        "id": "94tkkWJFOQwK",
        "colab": {
          "base_uri": "https://localhost:8080/",
          "height": 279
        },
        "outputId": "9a66d6e1-0484-434b-cf51-1cd82ef82b30"
      },
      "source": [
        "s = sum(unique_genes.values);\n",
        "h = unique_genes.values/s;\n",
        "plt.plot(h, label=\"Histrogram of Genes\")\n",
        "plt.xlabel('Index of a Gene')\n",
        "plt.ylabel('Number of Occurances')\n",
        "plt.legend()\n",
        "plt.grid()\n",
        "plt.show()\n"
      ],
      "execution_count": 25,
      "outputs": [
        {
          "output_type": "display_data",
          "data": {
            "image/png": "[encoded data removed]",
            "text/plain": [
              "<Figure size 432x288 with 1 Axes>"
            ]
          },
          "metadata": {
            "needs_background": "light"
          }
        }
      ]
    },
    {
      "cell_type": "code",
      "metadata": {
        "id": "GSYysPfLOQwP",
        "colab": {
          "base_uri": "https://localhost:8080/",
          "height": 265
        },
        "outputId": "4e36ae1f-d616-4fda-a62d-2d3162291fbd"
      },
      "source": [
        "c = np.cumsum(h)\n",
        "plt.plot(c,label='Cumulative distribution of Genes')\n",
        "plt.grid()\n",
        "plt.legend()\n",
        "plt.show()"
      ],
      "execution_count": 26,
      "outputs": [
        {
          "output_type": "display_data",
          "data": {
            "image/png": "[encoded data removed]",
            "text/plain": [
              "<Figure size 432x288 with 1 Axes>"
            ]
          },
          "metadata": {
            "needs_background": "light"
          }
        }
      ]
    },
    {
      "cell_type": "code",
      "metadata": {
        "id": "TcsbuDqcOQwU"
      },
      "source": [
        "#response-coding of the Gene feature\n",
        "# alpha is used for laplace smoothing\n",
        "alpha = 1\n",
        "# train gene feature\n",
        "train_gene_feature_responseCoding = np.array(get_gv_feature(alpha, \"Gene\", train_df))\n",
        "# test gene feature\n",
        "test_gene_feature_responseCoding = np.array(get_gv_feature(alpha, \"Gene\", test_df))\n",
        "# cross validation gene feature\n",
        "cv_gene_feature_responseCoding = np.array(get_gv_feature(alpha, \"Gene\", cv_df))"
      ],
      "execution_count": 27,
      "outputs": []
    },
    {
      "cell_type": "code",
      "metadata": {
        "id": "CejFANCDOQwb",
        "colab": {
          "base_uri": "https://localhost:8080/"
        },
        "outputId": "9198c7c2-f81e-4405-fe67-6a9a97efeed7"
      },
      "source": [
        "print(\"train_gene_feature_responseCoding is converted feature using respone coding method. The shape of gene feature:\", train_gene_feature_responseCoding.shape)"
      ],
      "execution_count": 28,
      "outputs": [
        {
          "output_type": "stream",
          "name": "stdout",
          "text": [
            "train_gene_feature_responseCoding is converted feature using respone coding method. The shape of gene feature: (2124, 9)\n"
          ]
        }
      ]
    },
    {
      "cell_type": "code",
      "metadata": {
        "id": "7TiLWR3LOQwq"
      },
      "source": [
        "# one-hot encoding of Gene feature.\n",
        "gene_vectorizer = CountVectorizer()\n",
        "train_gene_feature_onehotCoding = gene_vectorizer.fit_transform(train_df['Gene'])\n",
        "test_gene_feature_onehotCoding = gene_vectorizer.transform(test_df['Gene'])\n",
        "cv_gene_feature_onehotCoding = gene_vectorizer.transform(cv_df['Gene'])"
      ],
      "execution_count": 29,
      "outputs": []
    },
    {
      "cell_type": "code",
      "metadata": {
        "id": "Qews-nkHjR30"
      },
      "source": [
        ""
      ],
      "execution_count": 29,
      "outputs": []
    },
    {
      "cell_type": "code",
      "metadata": {
        "id": "foYJ4tJnOQwt",
        "colab": {
          "base_uri": "https://localhost:8080/"
        },
        "outputId": "809f17d2-cb29-432b-f9e4-6f6376817b37"
      },
      "source": [
        "train_df['Gene'].head()"
      ],
      "execution_count": 30,
      "outputs": [
        {
          "output_type": "execute_result",
          "data": {
            "text/plain": [
              "1593      VHL\n",
              "1643     FLT3\n",
              "2201     PTEN\n",
              "66      PTPRT\n",
              "559     SMAD3\n",
              "Name: Gene, dtype: object"
            ]
          },
          "metadata": {},
          "execution_count": 30
        }
      ]
    },
    {
      "cell_type": "code",
      "metadata": {
        "id": "7aohGapoOQwx",
        "colab": {
          "base_uri": "https://localhost:8080/"
        },
        "outputId": "0c7a5ec2-8760-4590-d3df-360b478baeb2"
      },
      "source": [
        "gene_vectorizer.get_feature_names()"
      ],
      "execution_count": 31,
      "outputs": [
        {
          "output_type": "execute_result",
          "data": {
            "text/plain": [
              "['abl1',\n",
              " 'acvr1',\n",
              " 'ago2',\n",
              " 'akt1',\n",
              " 'akt2',\n",
              " 'akt3',\n",
              " 'alk',\n",
              " 'apc',\n",
              " 'ar',\n",
              " 'araf',\n",
              " 'arid1a',\n",
              " 'arid2',\n",
              " 'asxl1',\n",
              " 'asxl2',\n",
              " 'atm',\n",
              " 'atrx',\n",
              " 'aurka',\n",
              " 'aurkb',\n",
              " 'axin1',\n",
              " 'b2m',\n",
              " 'bap1',\n",
              " 'bard1',\n",
              " 'bcl10',\n",
              " 'bcl2l11',\n",
              " 'bcor',\n",
              " 'braf',\n",
              " 'brca1',\n",
              " 'brca2',\n",
              " 'brip1',\n",
              " 'btk',\n",
              " 'card11',\n",
              " 'carm1',\n",
              " 'casp8',\n",
              " 'cbl',\n",
              " 'ccnd1',\n",
              " 'ccnd2',\n",
              " 'ccnd3',\n",
              " 'ccne1',\n",
              " 'cdh1',\n",
              " 'cdk12',\n",
              " 'cdk4',\n",
              " 'cdk6',\n",
              " 'cdk8',\n",
              " 'cdkn1a',\n",
              " 'cdkn1b',\n",
              " 'cdkn2a',\n",
              " 'cdkn2b',\n",
              " 'cdkn2c',\n",
              " 'chek2',\n",
              " 'cic',\n",
              " 'crebbp',\n",
              " 'ctcf',\n",
              " 'ctla4',\n",
              " 'ctnnb1',\n",
              " 'ddr2',\n",
              " 'dicer1',\n",
              " 'dnmt3a',\n",
              " 'dnmt3b',\n",
              " 'dusp4',\n",
              " 'egfr',\n",
              " 'elf3',\n",
              " 'ep300',\n",
              " 'epas1',\n",
              " 'erbb2',\n",
              " 'erbb3',\n",
              " 'erbb4',\n",
              " 'ercc2',\n",
              " 'ercc3',\n",
              " 'ercc4',\n",
              " 'erg',\n",
              " 'errfi1',\n",
              " 'esr1',\n",
              " 'etv1',\n",
              " 'etv6',\n",
              " 'ewsr1',\n",
              " 'ezh2',\n",
              " 'fam58a',\n",
              " 'fanca',\n",
              " 'fancc',\n",
              " 'fat1',\n",
              " 'fbxw7',\n",
              " 'fgf19',\n",
              " 'fgf3',\n",
              " 'fgf4',\n",
              " 'fgfr1',\n",
              " 'fgfr2',\n",
              " 'fgfr3',\n",
              " 'fgfr4',\n",
              " 'flt1',\n",
              " 'flt3',\n",
              " 'foxa1',\n",
              " 'foxp1',\n",
              " 'gata3',\n",
              " 'gna11',\n",
              " 'gnaq',\n",
              " 'gnas',\n",
              " 'h3f3a',\n",
              " 'hla',\n",
              " 'hnf1a',\n",
              " 'hras',\n",
              " 'idh1',\n",
              " 'idh2',\n",
              " 'igf1r',\n",
              " 'ikbke',\n",
              " 'ikzf1',\n",
              " 'il7r',\n",
              " 'inpp4b',\n",
              " 'jak1',\n",
              " 'jak2',\n",
              " 'kdm5a',\n",
              " 'kdm5c',\n",
              " 'kdm6a',\n",
              " 'kdr',\n",
              " 'keap1',\n",
              " 'kit',\n",
              " 'klf4',\n",
              " 'kmt2a',\n",
              " 'kmt2b',\n",
              " 'kmt2c',\n",
              " 'kmt2d',\n",
              " 'knstrn',\n",
              " 'kras',\n",
              " 'lats1',\n",
              " 'lats2',\n",
              " 'map2k1',\n",
              " 'map2k2',\n",
              " 'map2k4',\n",
              " 'map3k1',\n",
              " 'mapk1',\n",
              " 'med12',\n",
              " 'mef2b',\n",
              " 'men1',\n",
              " 'met',\n",
              " 'mga',\n",
              " 'mlh1',\n",
              " 'mpl',\n",
              " 'msh2',\n",
              " 'msh6',\n",
              " 'mtor',\n",
              " 'myc',\n",
              " 'mycn',\n",
              " 'myd88',\n",
              " 'ncor1',\n",
              " 'nf1',\n",
              " 'nf2',\n",
              " 'nfe2l2',\n",
              " 'nfkbia',\n",
              " 'nkx2',\n",
              " 'notch1',\n",
              " 'notch2',\n",
              " 'npm1',\n",
              " 'nras',\n",
              " 'nsd1',\n",
              " 'ntrk1',\n",
              " 'ntrk2',\n",
              " 'ntrk3',\n",
              " 'nup93',\n",
              " 'pax8',\n",
              " 'pbrm1',\n",
              " 'pdgfra',\n",
              " 'pdgfrb',\n",
              " 'pik3ca',\n",
              " 'pik3cb',\n",
              " 'pik3cd',\n",
              " 'pik3r1',\n",
              " 'pik3r2',\n",
              " 'pik3r3',\n",
              " 'pim1',\n",
              " 'pms1',\n",
              " 'pms2',\n",
              " 'pole',\n",
              " 'ppm1d',\n",
              " 'ppp2r1a',\n",
              " 'ppp6c',\n",
              " 'prdm1',\n",
              " 'pten',\n",
              " 'ptpn11',\n",
              " 'ptprd',\n",
              " 'ptprt',\n",
              " 'rab35',\n",
              " 'rac1',\n",
              " 'rad21',\n",
              " 'rad50',\n",
              " 'rad51c',\n",
              " 'rad51d',\n",
              " 'raf1',\n",
              " 'rara',\n",
              " 'rasa1',\n",
              " 'rb1',\n",
              " 'rbm10',\n",
              " 'ret',\n",
              " 'rheb',\n",
              " 'rhoa',\n",
              " 'rit1',\n",
              " 'rnf43',\n",
              " 'ros1',\n",
              " 'runx1',\n",
              " 'rxra',\n",
              " 'rybp',\n",
              " 'sdhc',\n",
              " 'setd2',\n",
              " 'sf3b1',\n",
              " 'shq1',\n",
              " 'smad2',\n",
              " 'smad3',\n",
              " 'smad4',\n",
              " 'smarca4',\n",
              " 'smarcb1',\n",
              " 'smo',\n",
              " 'sos1',\n",
              " 'sox9',\n",
              " 'spop',\n",
              " 'src',\n",
              " 'stag2',\n",
              " 'stat3',\n",
              " 'stk11',\n",
              " 'tcf3',\n",
              " 'tcf7l2',\n",
              " 'tert',\n",
              " 'tet1',\n",
              " 'tet2',\n",
              " 'tgfbr1',\n",
              " 'tgfbr2',\n",
              " 'tmprss2',\n",
              " 'tp53',\n",
              " 'tp53bp1',\n",
              " 'tsc1',\n",
              " 'tsc2',\n",
              " 'u2af1',\n",
              " 'vegfa',\n",
              " 'vhl',\n",
              " 'whsc1',\n",
              " 'whsc1l1',\n",
              " 'xpo1',\n",
              " 'yap1']"
            ]
          },
          "metadata": {},
          "execution_count": 31
        }
      ]
    },
    {
      "cell_type": "code",
      "metadata": {
        "id": "RnMPvg4OOQw0",
        "colab": {
          "base_uri": "https://localhost:8080/"
        },
        "outputId": "28aa26bc-3f2b-4a14-9b21-4f2ee93649c0"
      },
      "source": [
        "print(\"train_gene_feature_onehotCoding is converted feature using one-hot encoding method. The shape of gene feature:\", train_gene_feature_onehotCoding.shape)"
      ],
      "execution_count": 32,
      "outputs": [
        {
          "output_type": "stream",
          "name": "stdout",
          "text": [
            "train_gene_feature_onehotCoding is converted feature using one-hot encoding method. The shape of gene feature: (2124, 235)\n"
          ]
        }
      ]
    },
    {
      "cell_type": "markdown",
      "metadata": {
        "id": "vJ-891DNOQw_"
      },
      "source": [
        "There are many ways to estimate how good a feature is, in predicting y_i. One of the good methods is to build a proper ML model using just this feature. In this case, we will build a logistic regression model using only Gene feature (one hot encoded) to predict y_i."
      ]
    },
    {
      "cell_type": "code",
      "metadata": {
        "id": "3lcCW-oEOQxA",
        "colab": {
          "base_uri": "https://localhost:8080/",
          "height": 451
        },
        "outputId": "8292cd87-35cb-4325-cb0a-f691a344b50b"
      },
      "source": [
        "alpha = [10 ** x for x in range(-5, 1)] # hyperparam for SGD classifier.\n",
        "\n",
        "cv_log_error_array=[]\n",
        "for i in alpha:\n",
        "    clf = SGDClassifier(alpha=i, penalty='l2', loss='log', random_state=42)\n",
        "    clf.fit(train_gene_feature_onehotCoding, y_train)\n",
        "    sig_clf = CalibratedClassifierCV(clf, method=\"sigmoid\")\n",
        "    sig_clf.fit(train_gene_feature_onehotCoding, y_train)\n",
        "    predict_y = sig_clf.predict_proba(cv_gene_feature_onehotCoding)\n",
        "    cv_log_error_array.append(log_loss(y_cv, predict_y, labels=clf.classes_, eps=1e-15))\n",
        "    print('For values of alpha = ', i, \"The log loss is:\",log_loss(y_cv, predict_y, labels=clf.classes_, eps=1e-15))\n",
        "\n",
        "fig, ax = plt.subplots()\n",
        "ax.plot(alpha, cv_log_error_array,c='g')\n",
        "for i, txt in enumerate(np.round(cv_log_error_array,3)):\n",
        "    ax.annotate((alpha[i],np.round(txt,3)), (alpha[i],cv_log_error_array[i]))\n",
        "plt.grid()\n",
        "plt.title(\"Cross Validation Error for each alpha\")\n",
        "plt.xlabel(\"Alpha i's\")\n",
        "plt.ylabel(\"Error measure\")\n",
        "plt.show()\n",
        "\n",
        "\n",
        "best_alpha = np.argmin(cv_log_error_array)\n",
        "clf = SGDClassifier(alpha=alpha[best_alpha], penalty='l2', loss='log', random_state=42)\n",
        "clf.fit(train_gene_feature_onehotCoding, y_train)\n",
        "sig_clf = CalibratedClassifierCV(clf, method=\"sigmoid\")\n",
        "sig_clf.fit(train_gene_feature_onehotCoding, y_train)\n",
        "\n",
        "predict_y = sig_clf.predict_proba(train_gene_feature_onehotCoding)\n",
        "print('For values of best alpha = ', alpha[best_alpha], \"The train log loss is:\",log_loss(y_train, predict_y, labels=clf.classes_, eps=1e-15))\n",
        "predict_y = sig_clf.predict_proba(cv_gene_feature_onehotCoding)\n",
        "print('For values of best alpha = ', alpha[best_alpha], \"The cross validation log loss is:\",log_loss(y_cv, predict_y, labels=clf.classes_, eps=1e-15))\n",
        "predict_y = sig_clf.predict_proba(test_gene_feature_onehotCoding)\n",
        "print('For values of best alpha = ', alpha[best_alpha], \"The test log loss is:\",log_loss(y_test, predict_y, labels=clf.classes_, eps=1e-15))\n"
      ],
      "execution_count": 33,
      "outputs": [
        {
          "output_type": "stream",
          "name": "stdout",
          "text": [
            "For values of alpha =  1e-05 The log loss is: 1.2512523613264308\n",
            "For values of alpha =  0.0001 The log loss is: 1.2451066227295933\n",
            "For values of alpha =  0.001 The log loss is: 1.292525808783636\n",
            "For values of alpha =  0.01 The log loss is: 1.4022846006428389\n",
            "For values of alpha =  0.1 The log loss is: 1.4700591402497931\n",
            "For values of alpha =  1 The log loss is: 1.505806045308383\n"
          ]
        },
        {
          "output_type": "display_data",
          "data": {
            "image/png": "[encoded data removed]",
            "text/plain": [
              "<Figure size 432x288 with 1 Axes>"
            ]
          },
          "metadata": {
            "needs_background": "light"
          }
        },
        {
          "output_type": "stream",
          "name": "stdout",
          "text": [
            "For values of best alpha =  0.0001 The train log loss is: 0.9683090591670762\n",
            "For values of best alpha =  0.0001 The cross validation log loss is: 1.2451066227295933\n",
            "For values of best alpha =  0.0001 The test log loss is: 1.1630837244356884\n"
          ]
        }
      ]
    },
    {
      "cell_type": "code",
      "metadata": {
        "id": "PjY8VwyuOQxK",
        "colab": {
          "base_uri": "https://localhost:8080/"
        },
        "outputId": "0d4a7e4d-8d12-48a4-c156-1beed563145f"
      },
      "source": [
        "print(\"How many data points in Test and CV datasets are covered by the \", unique_genes.shape[0], \" genes in train dataset?\")\n",
        "\n",
        "test_coverage=test_df[test_df['Gene'].isin(list(set(train_df['Gene'])))].shape[0]\n",
        "cv_coverage=cv_df[cv_df['Gene'].isin(list(set(train_df['Gene'])))].shape[0]\n",
        "\n",
        "print('Ans\\n1. In test data',test_coverage, 'out of',test_df.shape[0], \":\",(test_coverage/test_df.shape[0])*100)\n",
        "print('2. In cross validation data',cv_coverage, 'out of ',cv_df.shape[0],\":\" ,(cv_coverage/cv_df.shape[0])*100)"
      ],
      "execution_count": 34,
      "outputs": [
        {
          "output_type": "stream",
          "name": "stdout",
          "text": [
            "How many data points in Test and CV datasets are covered by the  235  genes in train dataset?\n",
            "Ans\n",
            "1. In test data 649 out of 665 : 97.59398496240601\n",
            "2. In cross validation data 514 out of  532 : 96.61654135338345\n"
          ]
        }
      ]
    },
    {
      "cell_type": "markdown",
      "metadata": {
        "id": "GZ8dUhbbOQxN"
      },
      "source": [
        "<h3>3.2.2 Univariate Analysis on Variation Feature</h3>"
      ]
    },
    {
      "cell_type": "code",
      "metadata": {
        "id": "ipBDKwsoOQxP",
        "colab": {
          "base_uri": "https://localhost:8080/"
        },
        "outputId": "669922a7-dd7e-4486-943b-e5a62e7e8b14"
      },
      "source": [
        "unique_variations = train_df['Variation'].value_counts()\n",
        "print('Number of Unique Variations :', unique_variations.shape[0])\n",
        "# the top 10 variations that occured most\n",
        "print(unique_variations.head(10))"
      ],
      "execution_count": 35,
      "outputs": [
        {
          "output_type": "stream",
          "name": "stdout",
          "text": [
            "Number of Unique Variations : 1920\n",
            "Truncating_Mutations    63\n",
            "Deletion                52\n",
            "Amplification           46\n",
            "Fusions                 26\n",
            "Overexpression           4\n",
            "T58I                     3\n",
            "V321M                    2\n",
            "G13C                     2\n",
            "Q22K                     2\n",
            "G35R                     2\n",
            "Name: Variation, dtype: int64\n"
          ]
        }
      ]
    },
    {
      "cell_type": "code",
      "metadata": {
        "scrolled": true,
        "id": "K9wWS-NYOQxV",
        "colab": {
          "base_uri": "https://localhost:8080/"
        },
        "outputId": "3fb50a05-bead-4690-afe3-648dbb7863ae"
      },
      "source": [
        "print(\"There are\", unique_variations.shape[0] ,\"different categories of variations in the train data, and they are distibuted as follows\",)"
      ],
      "execution_count": 36,
      "outputs": [
        {
          "output_type": "stream",
          "name": "stdout",
          "text": [
            "There are 1920 different categories of variations in the train data, and they are distibuted as follows\n"
          ]
        }
      ]
    },
    {
      "cell_type": "code",
      "metadata": {
        "id": "B7NmwrkpOQxk",
        "colab": {
          "base_uri": "https://localhost:8080/",
          "height": 279
        },
        "outputId": "8bcd97b6-de9d-44d7-c017-fc8398ed113e"
      },
      "source": [
        "s = sum(unique_variations.values);\n",
        "h = unique_variations.values/s;\n",
        "plt.plot(h, label=\"Histrogram of Variations\")\n",
        "plt.xlabel('Index of a Variation')\n",
        "plt.ylabel('Number of Occurances')\n",
        "plt.legend()\n",
        "plt.grid()\n",
        "plt.show()"
      ],
      "execution_count": 37,
      "outputs": [
        {
          "output_type": "display_data",
          "data": {
            "image/png": "[encoded data removed]",
            "text/plain": [
              "<Figure size 432x288 with 1 Axes>"
            ]
          },
          "metadata": {
            "needs_background": "light"
          }
        }
      ]
    },
    {
      "cell_type": "code",
      "metadata": {
        "id": "9sWC9-MXOQxo",
        "colab": {
          "base_uri": "https://localhost:8080/",
          "height": 282
        },
        "outputId": "3368bed6-ecae-4d3c-ebfd-fcfa7826b7e3"
      },
      "source": [
        "c = np.cumsum(h)\n",
        "print(c)\n",
        "plt.plot(c,label='Cumulative distribution of Variations')\n",
        "plt.grid()\n",
        "plt.legend()\n",
        "plt.show()"
      ],
      "execution_count": 38,
      "outputs": [
        {
          "output_type": "stream",
          "name": "stdout",
          "text": [
            "[0.02966102 0.05414313 0.07580038 ... 0.99905838 0.99952919 1.        ]\n"
          ]
        },
        {
          "output_type": "display_data",
          "data": {
            "image/png": "[encoded data removed]",
            "text/plain": [
              "<Figure size 432x288 with 1 Axes>"
            ]
          },
          "metadata": {
            "needs_background": "light"
          }
        }
      ]
    },
    {
      "cell_type": "markdown",
      "metadata": {
        "id": "e_jKtHYZOQxt"
      },
      "source": [
        "\n",
        "<p style=\"font-size:16px;\">\n",
        "<ol><li>One hot Encoding</li><li>Response coding</li></ol></p>\n",
        "<p> We will be using both these methods to featurize the Variation Feature </p>"
      ]
    },
    {
      "cell_type": "code",
      "metadata": {
        "id": "3FG82Rp2OQxt"
      },
      "source": [
        "# alpha is used for laplace smoothing\n",
        "alpha = 1\n",
        "# train gene feature\n",
        "train_variation_feature_responseCoding = np.array(get_gv_feature(alpha, \"Variation\", train_df))\n",
        "# test gene feature\n",
        "test_variation_feature_responseCoding = np.array(get_gv_feature(alpha, \"Variation\", test_df))\n",
        "# cross validation gene feature\n",
        "cv_variation_feature_responseCoding = np.array(get_gv_feature(alpha, \"Variation\", cv_df))"
      ],
      "execution_count": 39,
      "outputs": []
    },
    {
      "cell_type": "code",
      "metadata": {
        "id": "FETgZxHEOQxw",
        "colab": {
          "base_uri": "https://localhost:8080/"
        },
        "outputId": "80782859-28ae-4677-9c8a-fa462ff2e80f"
      },
      "source": [
        "print(\"train_variation_feature_responseCoding is a converted feature using the response coding method. The shape of Variation feature:\", train_variation_feature_responseCoding.shape)"
      ],
      "execution_count": 40,
      "outputs": [
        {
          "output_type": "stream",
          "name": "stdout",
          "text": [
            "train_variation_feature_responseCoding is a converted feature using the response coding method. The shape of Variation feature: (2124, 9)\n"
          ]
        }
      ]
    },
    {
      "cell_type": "code",
      "metadata": {
        "id": "ruAYi3HwOQxy"
      },
      "source": [
        "# one-hot encoding of variation feature.\n",
        "variation_vectorizer = CountVectorizer()\n",
        "train_variation_feature_onehotCoding = variation_vectorizer.fit_transform(train_df['Variation'])\n",
        "test_variation_feature_onehotCoding = variation_vectorizer.transform(test_df['Variation'])\n",
        "cv_variation_feature_onehotCoding = variation_vectorizer.transform(cv_df['Variation'])"
      ],
      "execution_count": 41,
      "outputs": []
    },
    {
      "cell_type": "code",
      "metadata": {
        "id": "ypVMT3FJi1Su"
      },
      "source": [
        ""
      ],
      "execution_count": 41,
      "outputs": []
    },
    {
      "cell_type": "code",
      "metadata": {
        "id": "pUdraWMYOQx3",
        "colab": {
          "base_uri": "https://localhost:8080/"
        },
        "outputId": "37afae8b-3f51-425b-e749-967b58ddfce1"
      },
      "source": [
        "print(\"train_variation_feature_onehotEncoded is converted feature using the onne-hot encoding method. The shape of Variation feature:\", train_variation_feature_onehotCoding.shape)"
      ],
      "execution_count": 42,
      "outputs": [
        {
          "output_type": "stream",
          "name": "stdout",
          "text": [
            "train_variation_feature_onehotEncoded is converted feature using the onne-hot encoding method. The shape of Variation feature: (2124, 1952)\n"
          ]
        }
      ]
    },
    {
      "cell_type": "markdown",
      "metadata": {
        "id": "1zjZ4FBNOQx9"
      },
      "source": [
        "Let's build a model just like the earlier!"
      ]
    },
    {
      "cell_type": "code",
      "metadata": {
        "scrolled": false,
        "id": "RDa2yRKfOQx9",
        "colab": {
          "base_uri": "https://localhost:8080/",
          "height": 451
        },
        "outputId": "91dc16e0-f4ef-4dc0-979b-7d76b3c9751c"
      },
      "source": [
        "alpha = [10 ** x for x in range(-5, 1)]\n",
        "\n",
        "cv_log_error_array=[]\n",
        "for i in alpha:\n",
        "    clf = SGDClassifier(alpha=i, penalty='l2', loss='log', random_state=42)\n",
        "    clf.fit(train_variation_feature_onehotCoding, y_train)\n",
        "    \n",
        "    sig_clf = CalibratedClassifierCV(clf, method=\"sigmoid\")\n",
        "    sig_clf.fit(train_variation_feature_onehotCoding, y_train)\n",
        "    predict_y = sig_clf.predict_proba(cv_variation_feature_onehotCoding)\n",
        "    \n",
        "    cv_log_error_array.append(log_loss(y_cv, predict_y, labels=clf.classes_, eps=1e-15))\n",
        "    print('For values of alpha = ', i, \"The log loss is:\",log_loss(y_cv, predict_y, labels=clf.classes_, eps=1e-15))\n",
        "\n",
        "fig, ax = plt.subplots()\n",
        "ax.plot(alpha, cv_log_error_array,c='g')\n",
        "for i, txt in enumerate(np.round(cv_log_error_array,3)):\n",
        "    ax.annotate((alpha[i],np.round(txt,3)), (alpha[i],cv_log_error_array[i]))\n",
        "plt.grid()\n",
        "plt.title(\"Cross Validation Error for each alpha\")\n",
        "plt.xlabel(\"Alpha i's\")\n",
        "plt.ylabel(\"Error measure\")\n",
        "plt.show()\n",
        "\n",
        "\n",
        "best_alpha = np.argmin(cv_log_error_array)\n",
        "clf = SGDClassifier(alpha=alpha[best_alpha], penalty='l2', loss='log', random_state=42)\n",
        "clf.fit(train_variation_feature_onehotCoding, y_train)\n",
        "sig_clf = CalibratedClassifierCV(clf, method=\"sigmoid\")\n",
        "sig_clf.fit(train_variation_feature_onehotCoding, y_train)\n",
        "\n",
        "predict_y = sig_clf.predict_proba(train_variation_feature_onehotCoding)\n",
        "print('For values of best alpha = ', alpha[best_alpha], \"The train log loss is:\",log_loss(y_train, predict_y, labels=clf.classes_, eps=1e-15))\n",
        "predict_y = sig_clf.predict_proba(cv_variation_feature_onehotCoding)\n",
        "print('For values of best alpha = ', alpha[best_alpha], \"The cross validation log loss is:\",log_loss(y_cv, predict_y, labels=clf.classes_, eps=1e-15))\n",
        "predict_y = sig_clf.predict_proba(test_variation_feature_onehotCoding)\n",
        "print('For values of best alpha = ', alpha[best_alpha], \"The test log loss is:\",log_loss(y_test, predict_y, labels=clf.classes_, eps=1e-15))\n"
      ],
      "execution_count": 43,
      "outputs": [
        {
          "output_type": "stream",
          "name": "stdout",
          "text": [
            "For values of alpha =  1e-05 The log loss is: 1.7053379799581496\n",
            "For values of alpha =  0.0001 The log loss is: 1.6958216019441796\n",
            "For values of alpha =  0.001 The log loss is: 1.6972724711392537\n",
            "For values of alpha =  0.01 The log loss is: 1.7010878755990853\n",
            "For values of alpha =  0.1 The log loss is: 1.713207044761505\n",
            "For values of alpha =  1 The log loss is: 1.7171817334793964\n"
          ]
        },
        {
          "output_type": "display_data",
          "data": {
            "image/png": "[encoded data removed]",
            "text/plain": [
              "<Figure size 432x288 with 1 Axes>"
            ]
          },
          "metadata": {
            "needs_background": "light"
          }
        },
        {
          "output_type": "stream",
          "name": "stdout",
          "text": [
            "For values of best alpha =  0.0001 The train log loss is: 0.6695704071657494\n",
            "For values of best alpha =  0.0001 The cross validation log loss is: 1.6958216019441796\n",
            "For values of best alpha =  0.0001 The test log loss is: 1.7369738844541185\n"
          ]
        }
      ]
    },
    {
      "cell_type": "code",
      "metadata": {
        "scrolled": true,
        "id": "pBZ5v2yBOQyB",
        "colab": {
          "base_uri": "https://localhost:8080/"
        },
        "outputId": "b74e87b7-5475-458e-b8a2-b421fbd14335"
      },
      "source": [
        "print(\"How many data points are covered by total \", unique_variations.shape[0], \" genes in test and cross validation data sets?\")\n",
        "test_coverage=test_df[test_df['Variation'].isin(list(set(train_df['Variation'])))].shape[0]\n",
        "cv_coverage=cv_df[cv_df['Variation'].isin(list(set(train_df['Variation'])))].shape[0]\n",
        "print('Ans\\n1. In test data',test_coverage, 'out of',test_df.shape[0], \":\",(test_coverage/test_df.shape[0])*100)\n",
        "print('2. In cross validation data',cv_coverage, 'out of ',cv_df.shape[0],\":\" ,(cv_coverage/cv_df.shape[0])*100)"
      ],
      "execution_count": 44,
      "outputs": [
        {
          "output_type": "stream",
          "name": "stdout",
          "text": [
            "How many data points are covered by total  1920  genes in test and cross validation data sets?\n",
            "Ans\n",
            "1. In test data 54 out of 665 : 8.1203007518797\n",
            "2. In cross validation data 59 out of  532 : 11.090225563909774\n"
          ]
        }
      ]
    },
    {
      "cell_type": "markdown",
      "metadata": {
        "id": "J87b3_pEOQyE"
      },
      "source": [
        "<h3>3.2.3 Univariate Analysis on Text Feature</h3>"
      ]
    },
    {
      "cell_type": "markdown",
      "metadata": {
        "id": "Go1Lmf9tOQyF"
      },
      "source": [
        "1. How many unique words are present in train data?\n",
        "2. How are word frequencies distributed?\n",
        "3. How to featurize text field?\n",
        "4. Is the text feature useful in predicitng y_i?\n",
        "5. Is the text feature stable across train, test and CV datasets?"
      ]
    },
    {
      "cell_type": "code",
      "metadata": {
        "id": "xV59LrzTOQyF"
      },
      "source": [
        "# cls_text is a data frame\n",
        "# for every row in data fram consider the 'TEXT'\n",
        "# split the words by space\n",
        "# make a dict with those words\n",
        "# increment its count whenever we see that word\n",
        "\n",
        "def extract_dictionary_paddle(cls_text):\n",
        "    dictionary = defaultdict(int)\n",
        "    for index, row in cls_text.iterrows():\n",
        "        for word in row['TEXT'].split():\n",
        "            dictionary[word] +=1\n",
        "    return dictionary"
      ],
      "execution_count": 45,
      "outputs": []
    },
    {
      "cell_type": "code",
      "metadata": {
        "id": "p8Y15a_1OQyH"
      },
      "source": [
        "import math\n",
        "#https://stackoverflow.com/a/1602964\n",
        "def get_text_responsecoding(df):\n",
        "    text_feature_responseCoding = np.zeros((df.shape[0],9))\n",
        "    for i in range(0,9):\n",
        "        row_index = 0\n",
        "        for index, row in df.iterrows():\n",
        "            sum_prob = 0\n",
        "            for word in row['TEXT'].split():\n",
        "                sum_prob += math.log(((dict_list[i].get(word,0)+10 )/(total_dict.get(word,0)+90)))\n",
        "            text_feature_responseCoding[row_index][i] = math.exp(sum_prob/len(row['TEXT'].split()))\n",
        "            row_index += 1\n",
        "    return text_feature_responseCoding"
      ],
      "execution_count": 46,
      "outputs": []
    },
    {
      "cell_type": "code",
      "metadata": {
        "id": "FnAaW3teOQyL",
        "colab": {
          "base_uri": "https://localhost:8080/"
        },
        "outputId": "4ba7e1fb-8b26-41b4-d68e-ef7bf03f314f"
      },
      "source": [
        "# building a CountVectorizer with all the words that occured minimum 3 times in train data\n",
        "text_vectorizer = CountVectorizer(min_df=3)\n",
        "train_text_feature_onehotCoding = text_vectorizer.fit_transform(train_df['TEXT'])\n",
        "# getting all the feature names (words)\n",
        "train_text_features= text_vectorizer.get_feature_names()\n",
        "\n",
        "# train_text_feature_onehotCoding.sum(axis=0).A1 will sum every row and returns (1*number of features) vector\n",
        "train_text_fea_counts = train_text_feature_onehotCoding.sum(axis=0).A1\n",
        "\n",
        "# zip(list(text_features),text_fea_counts) will zip a word with its number of times it occured\n",
        "text_fea_dict = dict(zip(list(train_text_features),train_text_fea_counts))\n",
        "\n",
        "\n",
        "print(\"Total number of unique words in train data :\", len(train_text_features))"
      ],
      "execution_count": 47,
      "outputs": [
        {
          "output_type": "stream",
          "name": "stdout",
          "text": [
            "Total number of unique words in train data : 54056\n"
          ]
        }
      ]
    },
    {
      "cell_type": "code",
      "metadata": {
        "id": "lO_CtltnOQyR"
      },
      "source": [
        "dict_list = []\n",
        "# dict_list =[] contains 9 dictoinaries each corresponds to a class\n",
        "for i in range(1,10):\n",
        "    cls_text = train_df[train_df['Class']==i]\n",
        "    # build a word dict based on the words in that class\n",
        "    dict_list.append(extract_dictionary_paddle(cls_text))\n",
        "    # append it to dict_list\n",
        "\n",
        "# dict_list[i] is build on i'th  class text data\n",
        "# total_dict is buid on whole training text data\n",
        "total_dict = extract_dictionary_paddle(train_df)\n",
        "\n",
        "\n",
        "confuse_array = []\n",
        "for i in train_text_features:\n",
        "    ratios = []\n",
        "    max_val = -1\n",
        "    for j in range(0,9):\n",
        "        ratios.append((dict_list[j][i]+10 )/(total_dict[i]+90))\n",
        "    confuse_array.append(ratios)\n",
        "confuse_array = np.array(confuse_array)"
      ],
      "execution_count": 48,
      "outputs": []
    },
    {
      "cell_type": "code",
      "metadata": {
        "id": "uaI8RUu0OQyU"
      },
      "source": [
        "#response coding of text features\n",
        "train_text_feature_responseCoding  = get_text_responsecoding(train_df)\n",
        "test_text_feature_responseCoding  = get_text_responsecoding(test_df)\n",
        "cv_text_feature_responseCoding  = get_text_responsecoding(cv_df)"
      ],
      "execution_count": 49,
      "outputs": []
    },
    {
      "cell_type": "code",
      "metadata": {
        "id": "ZYqYSUjoOQyV"
      },
      "source": [
        "# https://stackoverflow.com/a/16202486\n",
        "# we convert each row values such that they sum to 1  \n",
        "train_text_feature_responseCoding = (train_text_feature_responseCoding.T/train_text_feature_responseCoding.sum(axis=1)).T\n",
        "test_text_feature_responseCoding = (test_text_feature_responseCoding.T/test_text_feature_responseCoding.sum(axis=1)).T\n",
        "cv_text_feature_responseCoding = (cv_text_feature_responseCoding.T/cv_text_feature_responseCoding.sum(axis=1)).T"
      ],
      "execution_count": 50,
      "outputs": []
    },
    {
      "cell_type": "code",
      "metadata": {
        "id": "3UEk7cxGOQyX"
      },
      "source": [
        "# don't forget to normalize every feature\n",
        "train_text_feature_onehotCoding = normalize(train_text_feature_onehotCoding, axis=0)\n",
        "\n",
        "# we use the same vectorizer that was trained on train data\n",
        "test_text_feature_onehotCoding = text_vectorizer.transform(test_df['TEXT'])\n",
        "# don't forget to normalize every feature\n",
        "test_text_feature_onehotCoding = normalize(test_text_feature_onehotCoding, axis=0)\n",
        "\n",
        "# we use the same vectorizer that was trained on train data\n",
        "cv_text_feature_onehotCoding = text_vectorizer.transform(cv_df['TEXT'])\n",
        "# don't forget to normalize every feature\n",
        "cv_text_feature_onehotCoding = normalize(cv_text_feature_onehotCoding, axis=0)"
      ],
      "execution_count": 51,
      "outputs": []
    },
    {
      "cell_type": "code",
      "metadata": {
        "id": "Ox21AjDkOQyZ"
      },
      "source": [
        "#https://stackoverflow.com/a/2258273/4084039\n",
        "sorted_text_fea_dict = dict(sorted(text_fea_dict.items(), key=lambda x: x[1] , reverse=True))\n",
        "sorted_text_occur = np.array(list(sorted_text_fea_dict.values()))"
      ],
      "execution_count": 52,
      "outputs": []
    },
    {
      "cell_type": "code",
      "metadata": {
        "id": "gT0OrfaTOQyb",
        "colab": {
          "base_uri": "https://localhost:8080/"
        },
        "outputId": "b0bc1e36-4b0e-4337-8ac8-97f6b11876c3"
      },
      "source": [
        "# Number of words for a given frequency.\n",
        "print(Counter(sorted_text_occur))"
      ],
      "execution_count": 53,
      "outputs": [
        {
          "output_type": "stream",
          "name": "stdout",
          "text": [
            "Counter({3: 5634, 4: 3627, 5: 3058, 6: 2993, 7: 2286, 8: 2082, 10: 1513, 9: 1442, 12: 1427, 11: 1147, 14: 1045, 16: 918, 13: 902, 15: 846, 20: 733, 18: 637, 17: 561, 24: 536, 21: 529, 36: 447, 19: 439, 22: 424, 28: 397, 26: 394, 23: 362, 25: 351, 27: 345, 30: 330, 32: 313, 54: 281, 40: 266, 29: 264, 33: 244, 34: 243, 31: 241, 39: 232, 37: 230, 35: 224, 42: 218, 48: 209, 41: 192, 38: 192, 45: 187, 44: 185, 43: 170, 49: 169, 47: 167, 55: 165, 52: 164, 46: 162, 50: 153, 51: 143, 60: 141, 57: 138, 56: 131, 53: 127, 64: 122, 78: 119, 63: 118, 59: 118, 67: 117, 58: 113, 72: 111, 66: 109, 61: 104, 62: 99, 65: 95, 70: 94, 75: 93, 69: 93, 68: 92, 73: 89, 84: 87, 82: 81, 76: 81, 81: 78, 80: 76, 79: 75, 71: 74, 74: 72, 89: 70, 88: 70, 87: 70, 97: 66, 108: 65, 92: 65, 91: 65, 96: 64, 86: 63, 77: 62, 100: 60, 90: 59, 117: 58, 99: 58, 98: 57, 93: 56, 115: 55, 83: 55, 106: 54, 102: 54, 129: 52, 101: 51, 94: 51, 110: 50, 95: 50, 85: 49, 109: 47, 121: 46, 119: 46, 105: 46, 116: 45, 114: 45, 111: 45, 120: 44, 103: 44, 112: 43, 107: 43, 141: 42, 136: 42, 128: 42, 126: 42, 142: 40, 104: 39, 132: 38, 127: 38, 118: 38, 148: 37, 113: 37, 162: 36, 130: 36, 125: 36, 123: 36, 122: 36, 152: 35, 139: 33, 135: 33, 180: 32, 160: 32, 159: 32, 154: 32, 144: 32, 143: 32, 133: 32, 156: 31, 150: 31, 131: 31, 137: 30, 222: 29, 168: 29, 149: 29, 145: 29, 134: 29, 187: 28, 167: 28, 146: 28, 140: 28, 193: 27, 179: 27, 170: 27, 165: 27, 163: 27, 157: 27, 147: 27, 209: 26, 197: 26, 190: 26, 184: 26, 171: 26, 155: 26, 153: 26, 151: 26, 203: 25, 200: 25, 198: 25, 158: 25, 205: 24, 195: 24, 183: 24, 174: 24, 138: 24, 196: 23, 186: 23, 185: 23, 182: 23, 169: 23, 164: 23, 219: 22, 188: 22, 173: 22, 172: 22, 161: 22, 256: 21, 206: 21, 175: 21, 229: 20, 215: 20, 202: 20, 192: 20, 191: 20, 124: 20, 274: 19, 246: 19, 235: 19, 227: 19, 220: 19, 214: 19, 194: 19, 181: 19, 178: 19, 177: 19, 270: 18, 268: 18, 243: 18, 240: 18, 211: 18, 199: 18, 298: 17, 263: 17, 261: 17, 253: 17, 248: 17, 234: 17, 232: 17, 225: 17, 216: 17, 201: 17, 176: 17, 326: 16, 308: 16, 281: 16, 242: 16, 223: 16, 218: 16, 217: 16, 208: 16, 207: 16, 189: 16, 322: 15, 303: 15, 287: 15, 286: 15, 282: 15, 266: 15, 255: 15, 254: 15, 245: 15, 237: 15, 231: 15, 228: 15, 221: 15, 213: 15, 204: 15, 344: 14, 333: 14, 269: 14, 250: 14, 238: 14, 224: 14, 210: 14, 166: 14, 350: 13, 335: 13, 325: 13, 295: 13, 288: 13, 285: 13, 264: 13, 251: 13, 249: 13, 239: 13, 423: 12, 342: 12, 324: 12, 314: 12, 300: 12, 293: 12, 291: 12, 290: 12, 279: 12, 272: 12, 259: 12, 257: 12, 230: 12, 454: 11, 398: 11, 367: 11, 356: 11, 334: 11, 319: 11, 318: 11, 312: 11, 307: 11, 294: 11, 292: 11, 275: 11, 271: 11, 258: 11, 241: 11, 236: 11, 212: 11, 891: 10, 442: 10, 410: 10, 408: 10, 391: 10, 371: 10, 362: 10, 353: 10, 352: 10, 347: 10, 329: 10, 328: 10, 320: 10, 317: 10, 306: 10, 305: 10, 304: 10, 284: 10, 283: 10, 278: 10, 273: 10, 252: 10, 244: 10, 226: 10, 584: 9, 483: 9, 469: 9, 449: 9, 435: 9, 433: 9, 415: 9, 412: 9, 392: 9, 389: 9, 381: 9, 378: 9, 370: 9, 365: 9, 363: 9, 359: 9, 354: 9, 346: 9, 338: 9, 331: 9, 323: 9, 316: 9, 315: 9, 310: 9, 302: 9, 297: 9, 289: 9, 277: 9, 265: 9, 262: 9, 247: 9, 674: 8, 672: 8, 645: 8, 554: 8, 545: 8, 541: 8, 529: 8, 524: 8, 474: 8, 471: 8, 450: 8, 447: 8, 441: 8, 440: 8, 434: 8, 432: 8, 404: 8, 400: 8, 397: 8, 373: 8, 361: 8, 358: 8, 357: 8, 355: 8, 351: 8, 341: 8, 339: 8, 336: 8, 332: 8, 313: 8, 309: 8, 299: 8, 276: 8, 233: 8, 1294: 7, 801: 7, 781: 7, 671: 7, 606: 7, 573: 7, 568: 7, 564: 7, 513: 7, 508: 7, 507: 7, 500: 7, 496: 7, 486: 7, 481: 7, 467: 7, 466: 7, 456: 7, 451: 7, 424: 7, 419: 7, 411: 7, 407: 7, 406: 7, 390: 7, 379: 7, 377: 7, 376: 7, 369: 7, 360: 7, 340: 7, 330: 7, 296: 7, 280: 7, 260: 7, 970: 6, 814: 6, 741: 6, 738: 6, 735: 6, 658: 6, 651: 6, 644: 6, 616: 6, 615: 6, 601: 6, 578: 6, 577: 6, 546: 6, 544: 6, 540: 6, 539: 6, 538: 6, 515: 6, 509: 6, 502: 6, 493: 6, 491: 6, 489: 6, 485: 6, 478: 6, 476: 6, 470: 6, 465: 6, 452: 6, 436: 6, 430: 6, 418: 6, 414: 6, 393: 6, 388: 6, 385: 6, 384: 6, 380: 6, 368: 6, 366: 6, 349: 6, 348: 6, 337: 6, 327: 6, 321: 6, 1848: 5, 1556: 5, 997: 5, 957: 5, 947: 5, 927: 5, 880: 5, 870: 5, 858: 5, 839: 5, 790: 5, 756: 5, 729: 5, 723: 5, 721: 5, 701: 5, 698: 5, 673: 5, 652: 5, 647: 5, 637: 5, 633: 5, 629: 5, 627: 5, 621: 5, 608: 5, 605: 5, 604: 5, 595: 5, 591: 5, 574: 5, 572: 5, 571: 5, 570: 5, 561: 5, 559: 5, 551: 5, 543: 5, 542: 5, 537: 5, 516: 5, 512: 5, 506: 5, 501: 5, 492: 5, 475: 5, 473: 5, 463: 5, 462: 5, 458: 5, 431: 5, 427: 5, 425: 5, 421: 5, 420: 5, 416: 5, 413: 5, 409: 5, 401: 5, 395: 5, 394: 5, 387: 5, 383: 5, 364: 5, 311: 5, 2144: 4, 1683: 4, 1526: 4, 1483: 4, 1456: 4, 1389: 4, 1318: 4, 1308: 4, 1299: 4, 1268: 4, 1262: 4, 1257: 4, 1239: 4, 1217: 4, 1215: 4, 1188: 4, 1156: 4, 1139: 4, 1075: 4, 1070: 4, 1048: 4, 1024: 4, 988: 4, 979: 4, 959: 4, 945: 4, 929: 4, 926: 4, 903: 4, 900: 4, 897: 4, 885: 4, 882: 4, 877: 4, 872: 4, 864: 4, 833: 4, 829: 4, 815: 4, 805: 4, 799: 4, 787: 4, 774: 4, 773: 4, 762: 4, 759: 4, 755: 4, 747: 4, 746: 4, 742: 4, 727: 4, 722: 4, 711: 4, 702: 4, 696: 4, 695: 4, 686: 4, 684: 4, 669: 4, 666: 4, 662: 4, 657: 4, 650: 4, 646: 4, 642: 4, 638: 4, 632: 4, 628: 4, 625: 4, 623: 4, 620: 4, 619: 4, 618: 4, 617: 4, 613: 4, 609: 4, 607: 4, 600: 4, 588: 4, 581: 4, 580: 4, 579: 4, 576: 4, 569: 4, 565: 4, 563: 4, 547: 4, 528: 4, 521: 4, 519: 4, 510: 4, 499: 4, 495: 4, 488: 4, 484: 4, 480: 4, 477: 4, 468: 4, 464: 4, 460: 4, 457: 4, 455: 4, 448: 4, 446: 4, 443: 4, 429: 4, 428: 4, 422: 4, 417: 4, 402: 4, 399: 4, 396: 4, 386: 4, 382: 4, 372: 4, 345: 4, 301: 4, 267: 4, 4885: 3, 3576: 3, 3516: 3, 2546: 3, 2382: 3, 2337: 3, 2284: 3, 2221: 3, 2165: 3, 2120: 3, 2104: 3, 1989: 3, 1941: 3, 1937: 3, 1904: 3, 1893: 3, 1828: 3, 1754: 3, 1742: 3, 1724: 3, 1712: 3, 1711: 3, 1650: 3, 1595: 3, 1588: 3, 1567: 3, 1554: 3, 1530: 3, 1527: 3, 1486: 3, 1477: 3, 1348: 3, 1332: 3, 1312: 3, 1310: 3, 1282: 3, 1281: 3, 1271: 3, 1248: 3, 1220: 3, 1209: 3, 1192: 3, 1191: 3, 1190: 3, 1179: 3, 1176: 3, 1167: 3, 1162: 3, 1159: 3, 1155: 3, 1152: 3, 1148: 3, 1144: 3, 1141: 3, 1137: 3, 1117: 3, 1114: 3, 1090: 3, 1077: 3, 1068: 3, 1066: 3, 1062: 3, 1059: 3, 1056: 3, 1047: 3, 1042: 3, 1034: 3, 1020: 3, 1016: 3, 1013: 3, 999: 3, 992: 3, 989: 3, 985: 3, 978: 3, 964: 3, 960: 3, 950: 3, 948: 3, 943: 3, 938: 3, 933: 3, 928: 3, 918: 3, 909: 3, 901: 3, 892: 3, 889: 3, 879: 3, 873: 3, 871: 3, 868: 3, 854: 3, 853: 3, 852: 3, 843: 3, 840: 3, 838: 3, 834: 3, 830: 3, 826: 3, 818: 3, 817: 3, 803: 3, 796: 3, 792: 3, 780: 3, 772: 3, 770: 3, 767: 3, 764: 3, 760: 3, 757: 3, 753: 3, 744: 3, 737: 3, 736: 3, 734: 3, 731: 3, 725: 3, 713: 3, 710: 3, 709: 3, 704: 3, 703: 3, 697: 3, 694: 3, 693: 3, 680: 3, 679: 3, 678: 3, 677: 3, 676: 3, 667: 3, 665: 3, 664: 3, 663: 3, 653: 3, 648: 3, 643: 3, 634: 3, 626: 3, 614: 3, 599: 3, 597: 3, 589: 3, 585: 3, 583: 3, 582: 3, 566: 3, 560: 3, 556: 3, 555: 3, 553: 3, 552: 3, 549: 3, 548: 3, 535: 3, 533: 3, 532: 3, 531: 3, 530: 3, 525: 3, 520: 3, 504: 3, 498: 3, 494: 3, 490: 3, 482: 3, 479: 3, 472: 3, 445: 3, 444: 3, 439: 3, 437: 3, 426: 3, 405: 3, 403: 3, 374: 3, 17556: 2, 7857: 2, 6952: 2, 6867: 2, 6836: 2, 6313: 2, 6144: 2, 6137: 2, 5859: 2, 4998: 2, 4871: 2, 4513: 2, 4511: 2, 4497: 2, 4458: 2, 4363: 2, 4218: 2, 4209: 2, 4141: 2, 4120: 2, 4106: 2, 4050: 2, 4049: 2, 3984: 2, 3924: 2, 3849: 2, 3765: 2, 3692: 2, 3629: 2, 3515: 2, 3495: 2, 3484: 2, 3454: 2, 3416: 2, 3387: 2, 3367: 2, 3355: 2, 3333: 2, 3295: 2, 3250: 2, 3179: 2, 3147: 2, 3105: 2, 3079: 2, 3066: 2, 3064: 2, 3061: 2, 3028: 2, 3018: 2, 2995: 2, 2945: 2, 2858: 2, 2847: 2, 2741: 2, 2637: 2, 2623: 2, 2593: 2, 2585: 2, 2580: 2, 2576: 2, 2543: 2, 2520: 2, 2485: 2, 2476: 2, 2469: 2, 2455: 2, 2447: 2, 2433: 2, 2404: 2, 2396: 2, 2354: 2, 2320: 2, 2315: 2, 2313: 2, 2300: 2, 2290: 2, 2266: 2, 2258: 2, 2229: 2, 2225: 2, 2206: 2, 2199: 2, 2184: 2, 2183: 2, 2176: 2, 2174: 2, 2158: 2, 2157: 2, 2148: 2, 2147: 2, 2075: 2, 2015: 2, 2008: 2, 2005: 2, 2003: 2, 1965: 2, 1951: 2, 1948: 2, 1936: 2, 1933: 2, 1931: 2, 1917: 2, 1915: 2, 1908: 2, 1881: 2, 1870: 2, 1869: 2, 1868: 2, 1845: 2, 1844: 2, 1841: 2, 1826: 2, 1824: 2, 1818: 2, 1814: 2, 1809: 2, 1798: 2, 1797: 2, 1790: 2, 1768: 2, 1761: 2, 1757: 2, 1740: 2, 1710: 2, 1708: 2, 1698: 2, 1685: 2, 1684: 2, 1681: 2, 1677: 2, 1662: 2, 1660: 2, 1652: 2, 1651: 2, 1643: 2, 1642: 2, 1641: 2, 1640: 2, 1636: 2, 1609: 2, 1599: 2, 1597: 2, 1586: 2, 1585: 2, 1584: 2, 1578: 2, 1576: 2, 1575: 2, 1570: 2, 1551: 2, 1550: 2, 1546: 2, 1541: 2, 1538: 2, 1533: 2, 1532: 2, 1528: 2, 1523: 2, 1520: 2, 1518: 2, 1510: 2, 1501: 2, 1500: 2, 1499: 2, 1493: 2, 1487: 2, 1482: 2, 1481: 2, 1479: 2, 1470: 2, 1467: 2, 1466: 2, 1460: 2, 1457: 2, 1455: 2, 1444: 2, 1433: 2, 1432: 2, 1425: 2, 1421: 2, 1418: 2, 1416: 2, 1410: 2, 1405: 2, 1401: 2, 1396: 2, 1395: 2, 1392: 2, 1391: 2, 1386: 2, 1380: 2, 1378: 2, 1372: 2, 1364: 2, 1361: 2, 1347: 2, 1346: 2, 1345: 2, 1344: 2, 1342: 2, 1339: 2, 1334: 2, 1324: 2, 1323: 2, 1314: 2, 1306: 2, 1298: 2, 1296: 2, 1295: 2, 1291: 2, 1290: 2, 1286: 2, 1285: 2, 1270: 2, 1256: 2, 1253: 2, 1250: 2, 1246: 2, 1240: 2, 1229: 2, 1228: 2, 1227: 2, 1226: 2, 1224: 2, 1216: 2, 1212: 2, 1203: 2, 1194: 2, 1185: 2, 1181: 2, 1178: 2, 1173: 2, 1164: 2, 1163: 2, 1151: 2, 1149: 2, 1146: 2, 1142: 2, 1140: 2, 1136: 2, 1135: 2, 1134: 2, 1133: 2, 1130: 2, 1129: 2, 1126: 2, 1122: 2, 1118: 2, 1115: 2, 1110: 2, 1108: 2, 1107: 2, 1098: 2, 1096: 2, 1092: 2, 1087: 2, 1085: 2, 1084: 2, 1080: 2, 1079: 2, 1076: 2, 1073: 2, 1069: 2, 1061: 2, 1049: 2, 1043: 2, 1038: 2, 1033: 2, 1031: 2, 1030: 2, 1025: 2, 1023: 2, 1022: 2, 1019: 2, 1018: 2, 1015: 2, 1014: 2, 1012: 2, 1009: 2, 1006: 2, 1003: 2, 996: 2, 995: 2, 983: 2, 982: 2, 981: 2, 977: 2, 971: 2, 969: 2, 967: 2, 965: 2, 958: 2, 955: 2, 952: 2, 951: 2, 949: 2, 946: 2, 940: 2, 939: 2, 932: 2, 923: 2, 919: 2, 915: 2, 913: 2, 910: 2, 906: 2, 905: 2, 902: 2, 899: 2, 898: 2, 895: 2, 894: 2, 890: 2, 888: 2, 883: 2, 878: 2, 876: 2, 867: 2, 866: 2, 865: 2, 863: 2, 861: 2, 860: 2, 857: 2, 850: 2, 848: 2, 846: 2, 845: 2, 844: 2, 841: 2, 837: 2, 836: 2, 835: 2, 832: 2, 825: 2, 824: 2, 822: 2, 820: 2, 816: 2, 813: 2, 811: 2, 810: 2, 807: 2, 804: 2, 800: 2, 797: 2, 783: 2, 782: 2, 779: 2, 777: 2, 776: 2, 771: 2, 763: 2, 761: 2, 758: 2, 754: 2, 752: 2, 750: 2, 748: 2, 740: 2, 739: 2, 732: 2, 728: 2, 726: 2, 720: 2, 719: 2, 718: 2, 717: 2, 712: 2, 708: 2, 705: 2, 700: 2, 699: 2, 689: 2, 688: 2, 685: 2, 683: 2, 675: 2, 670: 2, 660: 2, 656: 2, 654: 2, 641: 2, 640: 2, 636: 2, 635: 2, 624: 2, 612: 2, 603: 2, 598: 2, 596: 2, 594: 2, 587: 2, 558: 2, 557: 2, 534: 2, 523: 2, 522: 2, 514: 2, 511: 2, 503: 2, 497: 2, 459: 2, 453: 2, 438: 2, 375: 2, 343: 2, 154998: 1, 116792: 1, 81095: 1, 67290: 1, 66900: 1, 66198: 1, 66120: 1, 63895: 1, 61359: 1, 56017: 1, 53718: 1, 49694: 1, 47646: 1, 46950: 1, 46279: 1, 44923: 1, 42330: 1, 41951: 1, 41812: 1, 41554: 1, 41018: 1, 40518: 1, 39505: 1, 39375: 1, 38336: 1, 38008: 1, 36501: 1, 36382: 1, 36347: 1, 36116: 1, 34995: 1, 34036: 1, 33567: 1, 33266: 1, 31659: 1, 31264: 1, 28998: 1, 27994: 1, 27180: 1, 25983: 1, 25941: 1, 25803: 1, 25686: 1, 25681: 1, 24991: 1, 24860: 1, 24821: 1, 24614: 1, 24551: 1, 23862: 1, 23797: 1, 23586: 1, 23043: 1, 22692: 1, 22658: 1, 21625: 1, 21619: 1, 21496: 1, 21423: 1, 21076: 1, 20835: 1, 20736: 1, 20139: 1, 20066: 1, 19937: 1, 19661: 1, 19378: 1, 19251: 1, 19088: 1, 19086: 1, 19051: 1, 18860: 1, 18616: 1, 18490: 1, 18378: 1, 18283: 1, 18236: 1, 18119: 1, 18106: 1, 17789: 1, 17709: 1, 17621: 1, 17518: 1, 17431: 1, 17333: 1, 17323: 1, 17230: 1, 17047: 1, 17032: 1, 16958: 1, 16916: 1, 16746: 1, 16584: 1, 16537: 1, 16123: 1, 16061: 1, 15905: 1, 15821: 1, 15736: 1, 15550: 1, 15504: 1, 15461: 1, 15370: 1, 15268: 1, 15231: 1, 15200: 1, 15068: 1, 15015: 1, 14970: 1, 14943: 1, 14911: 1, 14803: 1, 14791: 1, 14762: 1, 14597: 1, 14368: 1, 14252: 1, 13817: 1, 13802: 1, 13729: 1, 13660: 1, 13567: 1, 13551: 1, 13526: 1, 13434: 1, 13312: 1, 13291: 1, 13276: 1, 13130: 1, 13011: 1, 13010: 1, 12854: 1, 12795: 1, 12755: 1, 12717: 1, 12667: 1, 12646: 1, 12625: 1, 12595: 1, 12505: 1, 12456: 1, 12446: 1, 12412: 1, 12385: 1, 12384: 1, 12325: 1, 12288: 1, 12273: 1, 12271: 1, 12245: 1, 12185: 1, 12177: 1, 12163: 1, 12144: 1, 12116: 1, 12115: 1, 12099: 1, 12074: 1, 12072: 1, 12052: 1, 11994: 1, 11775: 1, 11768: 1, 11751: 1, 11667: 1, 11577: 1, 11569: 1, 11540: 1, 11514: 1, 11513: 1, 11488: 1, 11487: 1, 11483: 1, 11251: 1, 11116: 1, 11008: 1, 10886: 1, 10753: 1, 10682: 1, 10669: 1, 10667: 1, 10614: 1, 10583: 1, 10570: 1, 10564: 1, 10532: 1, 10332: 1, 10301: 1, 10285: 1, 10232: 1, 10228: 1, 10225: 1, 10214: 1, 10211: 1, 10123: 1, 10025: 1, 10019: 1, 9999: 1, 9951: 1, 9943: 1, 9936: 1, 9881: 1, 9878: 1, 9872: 1, 9854: 1, 9768: 1, 9742: 1, 9690: 1, 9652: 1, 9612: 1, 9572: 1, 9549: 1, 9512: 1, 9502: 1, 9376: 1, 9339: 1, 9322: 1, 9319: 1, 9297: 1, 9269: 1, 9213: 1, 9199: 1, 9196: 1, 9193: 1, 9169: 1, 9155: 1, 9139: 1, 9122: 1, 9115: 1, 9106: 1, 9094: 1, 9085: 1, 9055: 1, 9031: 1, 8986: 1, 8941: 1, 8901: 1, 8876: 1, 8862: 1, 8812: 1, 8808: 1, 8733: 1, 8646: 1, 8610: 1, 8602: 1, 8580: 1, 8542: 1, 8456: 1, 8392: 1, 8373: 1, 8366: 1, 8341: 1, 8333: 1, 8318: 1, 8309: 1, 8284: 1, 8270: 1, 8231: 1, 8230: 1, 8228: 1, 8198: 1, 8197: 1, 8144: 1, 8027: 1, 8009: 1, 7992: 1, 7978: 1, 7961: 1, 7950: 1, 7943: 1, 7903: 1, 7871: 1, 7856: 1, 7831: 1, 7800: 1, 7797: 1, 7791: 1, 7786: 1, 7781: 1, 7754: 1, 7726: 1, 7664: 1, 7656: 1, 7598: 1, 7545: 1, 7537: 1, 7534: 1, 7523: 1, 7471: 1, 7440: 1, 7411: 1, 7358: 1, 7356: 1, 7352: 1, 7347: 1, 7344: 1, 7338: 1, 7295: 1, 7293: 1, 7284: 1, 7270: 1, 7268: 1, 7260: 1, 7259: 1, 7253: 1, 7250: 1, 7222: 1, 7202: 1, 7141: 1, 7136: 1, 7107: 1, 7104: 1, 7073: 1, 7061: 1, 7042: 1, 7012: 1, 7006: 1, 6994: 1, 6986: 1, 6972: 1, 6967: 1, 6963: 1, 6961: 1, 6957: 1, 6913: 1, 6856: 1, 6855: 1, 6853: 1, 6852: 1, 6823: 1, 6822: 1, 6814: 1, 6795: 1, 6778: 1, 6766: 1, 6731: 1, 6685: 1, 6680: 1, 6667: 1, 6643: 1, 6628: 1, 6604: 1, 6595: 1, 6589: 1, 6583: 1, 6578: 1, 6577: 1, 6566: 1, 6557: 1, 6534: 1, 6521: 1, 6485: 1, 6474: 1, 6457: 1, 6447: 1, 6404: 1, 6395: 1, 6393: 1, 6370: 1, 6361: 1, 6360: 1, 6349: 1, 6321: 1, 6264: 1, 6263: 1, 6246: 1, 6236: 1, 6230: 1, 6229: 1, 6220: 1, 6199: 1, 6145: 1, 6136: 1, 6124: 1, 6100: 1, 6089: 1, 6068: 1, 6063: 1, 6043: 1, 6027: 1, 6006: 1, 6004: 1, 5963: 1, 5958: 1, 5915: 1, 5903: 1, 5880: 1, 5876: 1, 5866: 1, 5854: 1, 5850: 1, 5835: 1, 5833: 1, 5799: 1, 5796: 1, 5769: 1, 5761: 1, 5726: 1, 5711: 1, 5693: 1, 5684: 1, 5681: 1, 5677: 1, 5664: 1, 5657: 1, 5647: 1, 5640: 1, 5630: 1, 5622: 1, 5616: 1, 5614: 1, 5600: 1, 5593: 1, 5540: 1, 5528: 1, 5520: 1, 5518: 1, 5510: 1, 5494: 1, 5466: 1, 5451: 1, 5441: 1, 5438: 1, 5415: 1, 5409: 1, 5405: 1, 5400: 1, 5396: 1, 5387: 1, 5378: 1, 5371: 1, 5366: 1, 5360: 1, 5352: 1, 5347: 1, 5345: 1, 5333: 1, 5331: 1, 5303: 1, 5299: 1, 5277: 1, 5270: 1, 5262: 1, 5230: 1, 5217: 1, 5211: 1, 5180: 1, 5168: 1, 5152: 1, 5142: 1, 5138: 1, 5137: 1, 5136: 1, 5110: 1, 5071: 1, 5064: 1, 5050: 1, 5045: 1, 5042: 1, 5028: 1, 5016: 1, 5001: 1, 4986: 1, 4957: 1, 4943: 1, 4939: 1, 4937: 1, 4929: 1, 4920: 1, 4915: 1, 4905: 1, 4887: 1, 4875: 1, 4872: 1, 4857: 1, 4847: 1, 4841: 1, 4834: 1, 4830: 1, 4827: 1, 4826: 1, 4823: 1, 4813: 1, 4812: 1, 4803: 1, 4801: 1, 4792: 1, 4791: 1, 4782: 1, 4781: 1, 4767: 1, 4761: 1, 4753: 1, 4750: 1, 4734: 1, 4719: 1, 4715: 1, 4704: 1, 4701: 1, 4697: 1, 4678: 1, 4677: 1, 4671: 1, 4656: 1, 4651: 1, 4648: 1, 4646: 1, 4624: 1, 4622: 1, 4617: 1, 4590: 1, 4586: 1, 4582: 1, 4580: 1, 4579: 1, 4578: 1, 4561: 1, 4553: 1, 4547: 1, 4540: 1, 4519: 1, 4518: 1, 4491: 1, 4483: 1, 4482: 1, 4470: 1, 4466: 1, 4460: 1, 4447: 1, 4433: 1, 4428: 1, 4424: 1, 4401: 1, 4392: 1, 4370: 1, 4366: 1, 4364: 1, 4357: 1, 4349: 1, 4344: 1, 4339: 1, 4333: 1, 4319: 1, 4315: 1, 4309: 1, 4307: 1, 4295: 1, 4273: 1, 4266: 1, 4260: 1, 4251: 1, 4248: 1, 4246: 1, 4221: 1, 4210: 1, 4201: 1, 4194: 1, 4188: 1, 4174: 1, 4164: 1, 4147: 1, 4127: 1, 4123: 1, 4122: 1, 4119: 1, 4116: 1, 4110: 1, 4102: 1, 4097: 1, 4096: 1, 4087: 1, 4084: 1, 4079: 1, 4070: 1, 4055: 1, 4051: 1, 4046: 1, 4045: 1, 4036: 1, 4025: 1, 4020: 1, 4015: 1, 4005: 1, 3980: 1, 3976: 1, 3974: 1, 3971: 1, 3970: 1, 3968: 1, 3942: 1, 3940: 1, 3935: 1, 3932: 1, 3921: 1, 3916: 1, 3915: 1, 3914: 1, 3885: 1, 3883: 1, 3882: 1, 3862: 1, 3859: 1, 3857: 1, 3853: 1, 3848: 1, 3845: 1, 3842: 1, 3835: 1, 3815: 1, 3802: 1, 3800: 1, 3788: 1, 3787: 1, 3783: 1, 3781: 1, 3780: 1, 3779: 1, 3774: 1, 3766: 1, 3764: 1, 3763: 1, 3758: 1, 3752: 1, 3751: 1, 3743: 1, 3724: 1, 3721: 1, 3716: 1, 3711: 1, 3708: 1, 3698: 1, 3696: 1, 3685: 1, 3681: 1, 3675: 1, 3668: 1, 3667: 1, 3665: 1, 3657: 1, 3643: 1, 3637: 1, 3630: 1, 3614: 1, 3609: 1, 3602: 1, 3598: 1, 3597: 1, 3596: 1, 3591: 1, 3590: 1, 3587: 1, 3584: 1, 3581: 1, 3579: 1, 3578: 1, 3564: 1, 3561: 1, 3559: 1, 3552: 1, 3551: 1, 3544: 1, 3541: 1, 3540: 1, 3537: 1, 3533: 1, 3529: 1, 3512: 1, 3510: 1, 3509: 1, 3507: 1, 3504: 1, 3503: 1, 3500: 1, 3498: 1, 3491: 1, 3480: 1, 3476: 1, 3469: 1, 3463: 1, 3455: 1, 3453: 1, 3432: 1, 3422: 1, 3417: 1, 3412: 1, 3411: 1, 3407: 1, 3400: 1, 3393: 1, 3390: 1, 3388: 1, 3385: 1, 3379: 1, 3371: 1, 3365: 1, 3363: 1, 3350: 1, 3343: 1, 3342: 1, 3337: 1, 3336: 1, 3329: 1, 3324: 1, 3309: 1, 3298: 1, 3296: 1, 3292: 1, 3284: 1, 3283: 1, 3281: 1, 3278: 1, 3277: 1, 3270: 1, 3269: 1, 3267: 1, 3264: 1, 3256: 1, 3246: 1, 3238: 1, 3233: 1, 3218: 1, 3217: 1, 3213: 1, 3212: 1, 3204: 1, 3203: 1, 3196: 1, 3186: 1, 3184: 1, 3182: 1, 3178: 1, 3174: 1, 3173: 1, 3162: 1, 3155: 1, 3154: 1, 3138: 1, 3133: 1, 3132: 1, 3130: 1, 3124: 1, 3114: 1, 3111: 1, 3107: 1, 3102: 1, 3092: 1, 3081: 1, 3077: 1, 3074: 1, 3072: 1, 3068: 1, 3067: 1, 3065: 1, 3058: 1, 3057: 1, 3056: 1, 3049: 1, 3045: 1, 3042: 1, 3033: 1, 3032: 1, 3024: 1, 3021: 1, 3020: 1, 3016: 1, 3015: 1, 3011: 1, 3008: 1, 3002: 1, 3001: 1, 2988: 1, 2987: 1, 2986: 1, 2983: 1, 2976: 1, 2974: 1, 2972: 1, 2967: 1, 2964: 1, 2950: 1, 2948: 1, 2941: 1, 2930: 1, 2929: 1, 2927: 1, 2918: 1, 2913: 1, 2903: 1, 2893: 1, 2891: 1, 2877: 1, 2876: 1, 2875: 1, 2874: 1, 2872: 1, 2862: 1, 2854: 1, 2853: 1, 2846: 1, 2844: 1, 2838: 1, 2833: 1, 2832: 1, 2827: 1, 2821: 1, 2820: 1, 2813: 1, 2809: 1, 2802: 1, 2797: 1, 2793: 1, 2783: 1, 2777: 1, 2772: 1, 2770: 1, 2768: 1, 2755: 1, 2753: 1, 2750: 1, 2737: 1, 2731: 1, 2729: 1, 2725: 1, 2717: 1, 2709: 1, 2707: 1, 2704: 1, 2703: 1, 2701: 1, 2700: 1, 2699: 1, 2697: 1, 2694: 1, 2691: 1, 2689: 1, 2687: 1, 2684: 1, 2679: 1, 2677: 1, 2674: 1, 2669: 1, 2666: 1, 2665: 1, 2663: 1, 2662: 1, 2659: 1, 2658: 1, 2651: 1, 2650: 1, 2644: 1, 2643: 1, 2640: 1, 2638: 1, 2632: 1, 2631: 1, 2626: 1, 2625: 1, 2624: 1, 2622: 1, 2621: 1, 2619: 1, 2616: 1, 2615: 1, 2614: 1, 2611: 1, 2607: 1, 2603: 1, 2601: 1, 2597: 1, 2592: 1, 2583: 1, 2581: 1, 2572: 1, 2569: 1, 2568: 1, 2560: 1, 2558: 1, 2557: 1, 2555: 1, 2549: 1, 2547: 1, 2541: 1, 2539: 1, 2536: 1, 2534: 1, 2532: 1, 2531: 1, 2526: 1, 2524: 1, 2522: 1, 2518: 1, 2507: 1, 2506: 1, 2505: 1, 2503: 1, 2489: 1, 2486: 1, 2482: 1, 2478: 1, 2472: 1, 2465: 1, 2464: 1, 2462: 1, 2461: 1, 2459: 1, 2458: 1, 2453: 1, 2449: 1, 2443: 1, 2436: 1, 2435: 1, 2432: 1, 2430: 1, 2429: 1, 2428: 1, 2426: 1, 2421: 1, 2418: 1, 2413: 1, 2411: 1, 2410: 1, 2408: 1, 2407: 1, 2398: 1, 2394: 1, 2393: 1, 2388: 1, 2387: 1, 2384: 1, 2377: 1, 2372: 1, 2371: 1, 2366: 1, 2358: 1, 2357: 1, 2356: 1, 2355: 1, 2353: 1, 2351: 1, 2347: 1, 2345: 1, 2343: 1, 2341: 1, 2335: 1, 2333: 1, 2324: 1, 2321: 1, 2309: 1, 2308: 1, 2304: 1, 2302: 1, 2294: 1, 2288: 1, 2285: 1, 2281: 1, 2279: 1, 2275: 1, 2272: 1, 2271: 1, 2267: 1, 2260: 1, 2255: 1, 2254: 1, 2251: 1, 2248: 1, 2246: 1, 2244: 1, 2243: 1, 2240: 1, 2239: 1, 2231: 1, 2226: 1, 2224: 1, 2217: 1, 2213: 1, 2208: 1, 2198: 1, 2195: 1, 2190: 1, 2188: 1, 2178: 1, 2170: 1, 2168: 1, 2167: 1, 2162: 1, 2161: 1, 2156: 1, 2155: 1, 2152: 1, 2150: 1, 2149: 1, 2145: 1, 2140: 1, 2137: 1, 2131: 1, 2124: 1, 2123: 1, 2121: 1, 2119: 1, 2116: 1, 2114: 1, 2107: 1, 2102: 1, 2101: 1, 2094: 1, 2091: 1, 2087: 1, 2085: 1, 2084: 1, 2081: 1, 2080: 1, 2079: 1, 2077: 1, 2076: 1, 2074: 1, 2071: 1, 2069: 1, 2066: 1, 2065: 1, 2062: 1, 2060: 1, 2056: 1, 2055: 1, 2054: 1, 2052: 1, 2047: 1, 2042: 1, 2041: 1, 2040: 1, 2038: 1, 2033: 1, 2031: 1, 2021: 1, 2019: 1, 2017: 1, 2013: 1, 2012: 1, 2010: 1, 2009: 1, 2007: 1, 1995: 1, 1994: 1, 1992: 1, 1991: 1, 1987: 1, 1986: 1, 1985: 1, 1984: 1, 1983: 1, 1981: 1, 1976: 1, 1974: 1, 1973: 1, 1972: 1, 1970: 1, 1966: 1, 1964: 1, 1959: 1, 1957: 1, 1954: 1, 1953: 1, 1949: 1, 1947: 1, 1940: 1, 1939: 1, 1927: 1, 1926: 1, 1925: 1, 1924: 1, 1922: 1, 1918: 1, 1916: 1, 1914: 1, 1913: 1, 1911: 1, 1909: 1, 1906: 1, 1905: 1, 1901: 1, 1899: 1, 1898: 1, 1897: 1, 1896: 1, 1894: 1, 1892: 1, 1888: 1, 1886: 1, 1885: 1, 1884: 1, 1875: 1, 1867: 1, 1866: 1, 1863: 1, 1860: 1, 1858: 1, 1857: 1, 1853: 1, 1850: 1, 1847: 1, 1839: 1, 1838: 1, 1836: 1, 1834: 1, 1831: 1, 1827: 1, 1819: 1, 1816: 1, 1813: 1, 1812: 1, 1811: 1, 1808: 1, 1805: 1, 1803: 1, 1802: 1, 1801: 1, 1799: 1, 1794: 1, 1791: 1, 1789: 1, 1786: 1, 1785: 1, 1783: 1, 1782: 1, 1781: 1, 1780: 1, 1777: 1, 1774: 1, 1773: 1, 1770: 1, 1769: 1, 1767: 1, 1766: 1, 1764: 1, 1763: 1, 1762: 1, 1760: 1, 1759: 1, 1758: 1, 1749: 1, 1748: 1, 1743: 1, 1741: 1, 1739: 1, 1738: 1, 1737: 1, 1735: 1, 1734: 1, 1733: 1, 1731: 1, 1728: 1, 1726: 1, 1722: 1, 1716: 1, 1707: 1, 1702: 1, 1701: 1, 1700: 1, 1699: 1, 1697: 1, 1695: 1, 1691: 1, 1688: 1, 1680: 1, 1674: 1, 1669: 1, 1668: 1, 1666: 1, 1665: 1, 1663: 1, 1661: 1, 1659: 1, 1658: 1, 1656: 1, 1654: 1, 1653: 1, 1648: 1, 1646: 1, 1644: 1, 1639: 1, 1635: 1, 1634: 1, 1628: 1, 1627: 1, 1626: 1, 1622: 1, 1621: 1, 1620: 1, 1613: 1, 1610: 1, 1607: 1, 1605: 1, 1604: 1, 1598: 1, 1590: 1, 1587: 1, 1583: 1, 1581: 1, 1579: 1, 1573: 1, 1572: 1, 1569: 1, 1563: 1, 1561: 1, 1558: 1, 1557: 1, 1555: 1, 1552: 1, 1549: 1, 1548: 1, 1545: 1, 1543: 1, 1542: 1, 1539: 1, 1536: 1, 1531: 1, 1529: 1, 1525: 1, 1524: 1, 1522: 1, 1516: 1, 1513: 1, 1505: 1, 1504: 1, 1503: 1, 1498: 1, 1495: 1, 1492: 1, 1491: 1, 1489: 1, 1485: 1, 1475: 1, 1472: 1, 1465: 1, 1464: 1, 1463: 1, 1454: 1, 1453: 1, 1448: 1, 1447: 1, 1446: 1, 1445: 1, 1443: 1, 1441: 1, 1440: 1, 1438: 1, 1437: 1, 1431: 1, 1426: 1, 1424: 1, 1420: 1, 1419: 1, 1415: 1, 1414: 1, 1413: 1, 1412: 1, 1403: 1, 1402: 1, 1400: 1, 1399: 1, 1397: 1, 1394: 1, 1388: 1, 1387: 1, 1385: 1, 1384: 1, 1381: 1, 1379: 1, 1377: 1, 1375: 1, 1374: 1, 1373: 1, 1370: 1, 1369: 1, 1368: 1, 1365: 1, 1363: 1, 1357: 1, 1355: 1, 1350: 1, 1349: 1, 1341: 1, 1340: 1, 1338: 1, 1337: 1, 1336: 1, 1333: 1, 1331: 1, 1329: 1, 1325: 1, 1322: 1, 1321: 1, 1313: 1, 1309: 1, 1304: 1, 1303: 1, 1302: 1, 1300: 1, 1293: 1, 1288: 1, 1287: 1, 1284: 1, 1283: 1, 1279: 1, 1278: 1, 1276: 1, 1275: 1, 1274: 1, 1273: 1, 1272: 1, 1269: 1, 1255: 1, 1254: 1, 1251: 1, 1247: 1, 1243: 1, 1242: 1, 1237: 1, 1235: 1, 1233: 1, 1232: 1, 1231: 1, 1230: 1, 1223: 1, 1214: 1, 1213: 1, 1208: 1, 1207: 1, 1204: 1, 1202: 1, 1200: 1, 1199: 1, 1198: 1, 1196: 1, 1195: 1, 1189: 1, 1187: 1, 1183: 1, 1177: 1, 1175: 1, 1171: 1, 1166: 1, 1165: 1, 1161: 1, 1157: 1, 1150: 1, 1143: 1, 1131: 1, 1128: 1, 1127: 1, 1125: 1, 1123: 1, 1121: 1, 1120: 1, 1116: 1, 1113: 1, 1112: 1, 1111: 1, 1109: 1, 1103: 1, 1094: 1, 1091: 1, 1088: 1, 1086: 1, 1083: 1, 1071: 1, 1065: 1, 1064: 1, 1063: 1, 1060: 1, 1057: 1, 1053: 1, 1052: 1, 1051: 1, 1050: 1, 1045: 1, 1044: 1, 1041: 1, 1037: 1, 1036: 1, 1035: 1, 1029: 1, 1027: 1, 1021: 1, 1017: 1, 1011: 1, 1010: 1, 1007: 1, 1005: 1, 1001: 1, 994: 1, 993: 1, 991: 1, 990: 1, 987: 1, 986: 1, 980: 1, 976: 1, 975: 1, 974: 1, 972: 1, 968: 1, 966: 1, 963: 1, 962: 1, 961: 1, 944: 1, 942: 1, 941: 1, 935: 1, 934: 1, 925: 1, 924: 1, 922: 1, 921: 1, 920: 1, 916: 1, 914: 1, 912: 1, 911: 1, 907: 1, 904: 1, 886: 1, 874: 1, 869: 1, 862: 1, 859: 1, 856: 1, 851: 1, 849: 1, 847: 1, 828: 1, 827: 1, 823: 1, 819: 1, 802: 1, 798: 1, 795: 1, 794: 1, 793: 1, 791: 1, 789: 1, 788: 1, 786: 1, 785: 1, 778: 1, 775: 1, 769: 1, 768: 1, 765: 1, 751: 1, 749: 1, 743: 1, 733: 1, 730: 1, 724: 1, 715: 1, 707: 1, 706: 1, 691: 1, 690: 1, 687: 1, 682: 1, 668: 1, 661: 1, 659: 1, 655: 1, 649: 1, 639: 1, 630: 1, 622: 1, 610: 1, 602: 1, 592: 1, 590: 1, 586: 1, 562: 1, 550: 1, 536: 1, 527: 1, 526: 1, 517: 1, 505: 1, 487: 1, 461: 1})\n"
          ]
        }
      ]
    },
    {
      "cell_type": "code",
      "metadata": {
        "id": "1sys81mqOQyh",
        "colab": {
          "base_uri": "https://localhost:8080/",
          "height": 451
        },
        "outputId": "ed1ccfea-2cee-4948-b486-cc207ff1076b"
      },
      "source": [
        "# Train a Logistic regression+Calibration model using text features whicha re on-hot encoded\n",
        "alpha = [10 ** x for x in range(-5, 1)]\n",
        "cv_log_error_array=[]\n",
        "for i in alpha:\n",
        "    clf = SGDClassifier(alpha=i, penalty='l2', loss='log', random_state=42)\n",
        "    clf.fit(train_text_feature_onehotCoding, y_train)\n",
        "    \n",
        "    sig_clf = CalibratedClassifierCV(clf, method=\"sigmoid\")\n",
        "    sig_clf.fit(train_text_feature_onehotCoding, y_train)\n",
        "    predict_y = sig_clf.predict_proba(cv_text_feature_onehotCoding)\n",
        "    cv_log_error_array.append(log_loss(y_cv, predict_y, labels=clf.classes_, eps=1e-15))\n",
        "    print('For values of alpha = ', i, \"The log loss is:\",log_loss(y_cv, predict_y, labels=clf.classes_, eps=1e-15))\n",
        "\n",
        "fig, ax = plt.subplots()\n",
        "ax.plot(alpha, cv_log_error_array,c='g')\n",
        "for i, txt in enumerate(np.round(cv_log_error_array,3)):\n",
        "    ax.annotate((alpha[i],np.round(txt,3)), (alpha[i],cv_log_error_array[i]))\n",
        "plt.grid()\n",
        "plt.title(\"Cross Validation Error for each alpha\")\n",
        "plt.xlabel(\"Alpha i's\")\n",
        "plt.ylabel(\"Error measure\")\n",
        "plt.show()\n",
        "\n",
        "\n",
        "best_alpha = np.argmin(cv_log_error_array)\n",
        "clf = SGDClassifier(alpha=alpha[best_alpha], penalty='l2', loss='log', random_state=42)\n",
        "clf.fit(train_text_feature_onehotCoding, y_train)\n",
        "sig_clf = CalibratedClassifierCV(clf, method=\"sigmoid\")\n",
        "sig_clf.fit(train_text_feature_onehotCoding, y_train)\n",
        "\n",
        "predict_y = sig_clf.predict_proba(train_text_feature_onehotCoding)\n",
        "print('For values of best alpha = ', alpha[best_alpha], \"The train log loss is:\",log_loss(y_train, predict_y, labels=clf.classes_, eps=1e-15))\n",
        "predict_y = sig_clf.predict_proba(cv_text_feature_onehotCoding)\n",
        "print('For values of best alpha = ', alpha[best_alpha], \"The cross validation log loss is:\",log_loss(y_cv, predict_y, labels=clf.classes_, eps=1e-15))\n",
        "predict_y = sig_clf.predict_proba(test_text_feature_onehotCoding)\n",
        "print('For values of best alpha = ', alpha[best_alpha], \"The test log loss is:\",log_loss(y_test, predict_y, labels=clf.classes_, eps=1e-15))\n"
      ],
      "execution_count": 54,
      "outputs": [
        {
          "output_type": "stream",
          "name": "stdout",
          "text": [
            "For values of alpha =  1e-05 The log loss is: 1.3314735349411075\n",
            "For values of alpha =  0.0001 The log loss is: 1.2996357020062124\n",
            "For values of alpha =  0.001 The log loss is: 1.330821970796511\n",
            "For values of alpha =  0.01 The log loss is: 1.40641834854469\n",
            "For values of alpha =  0.1 The log loss is: 1.504601601797799\n",
            "For values of alpha =  1 The log loss is: 1.7077059961338927\n"
          ]
        },
        {
          "output_type": "display_data",
          "data": {
            "image/png": "[encoded data removed]",
            "text/plain": [
              "<Figure size 432x288 with 1 Axes>"
            ]
          },
          "metadata": {
            "needs_background": "light"
          }
        },
        {
          "output_type": "stream",
          "name": "stdout",
          "text": [
            "For values of best alpha =  0.0001 The train log loss is: 0.6230860801528979\n",
            "For values of best alpha =  0.0001 The cross validation log loss is: 1.2996357020062124\n",
            "For values of best alpha =  0.0001 The test log loss is: 1.2209301689527399\n"
          ]
        }
      ]
    },
    {
      "cell_type": "markdown",
      "metadata": {
        "id": "s6AqmMa0OQym"
      },
      "source": [
        "Text feature is stable across all the data sets (Test, Train, Cross validation)</p>"
      ]
    },
    {
      "cell_type": "code",
      "metadata": {
        "id": "p_cUhp-ZOQyn"
      },
      "source": [
        "def get_intersec_text(df):\n",
        "    df_text_vec = CountVectorizer(min_df=3)\n",
        "    df_text_fea = df_text_vec.fit_transform(df['TEXT'])\n",
        "    df_text_features = df_text_vec.get_feature_names()\n",
        "\n",
        "    df_text_fea_counts = df_text_fea.sum(axis=0).A1\n",
        "    df_text_fea_dict = dict(zip(list(df_text_features),df_text_fea_counts))\n",
        "    len1 = len(set(df_text_features))\n",
        "    len2 = len(set(train_text_features) & set(df_text_features))\n",
        "    return len1,len2"
      ],
      "execution_count": 55,
      "outputs": []
    },
    {
      "cell_type": "code",
      "metadata": {
        "id": "yjNmkGN9OQyo",
        "colab": {
          "base_uri": "https://localhost:8080/"
        },
        "outputId": "15fe3a52-aefa-4803-f267-8fa9bd9abb93"
      },
      "source": [
        "len1,len2 = get_intersec_text(test_df)\n",
        "print(np.round((len2/len1)*100, 3), \"% of word of test data appeared in train data\")\n",
        "len1,len2 = get_intersec_text(cv_df)\n",
        "print(np.round((len2/len1)*100, 3), \"% of word of Cross Validation appeared in train data\")"
      ],
      "execution_count": 56,
      "outputs": [
        {
          "output_type": "stream",
          "name": "stdout",
          "text": [
            "97.771 % of word of test data appeared in train data\n",
            "97.768 % of word of Cross Validation appeared in train data\n"
          ]
        }
      ]
    },
    {
      "cell_type": "markdown",
      "metadata": {
        "id": "XXWA-CNqOQys"
      },
      "source": [
        "<h1>4. Machine Learning Models</h1>"
      ]
    },
    {
      "cell_type": "code",
      "metadata": {
        "id": "EKJzoIyQOQys"
      },
      "source": [
        "#Data preparation for ML models.\n",
        "\n",
        "#Misc. functionns for ML models\n",
        "\n",
        "\n",
        "def predict_and_plot_confusion_matrix(train_x, train_y,test_x, test_y, clf):\n",
        "    clf.fit(train_x, train_y)\n",
        "    sig_clf = CalibratedClassifierCV(clf, method=\"sigmoid\")\n",
        "    sig_clf.fit(train_x, train_y)\n",
        "    pred_y = sig_clf.predict(test_x)\n",
        "\n",
        "    # for calculating log_loss we willl provide the array of probabilities belongs to each class\n",
        "    print(\"Log loss :\",log_loss(test_y, sig_clf.predict_proba(test_x)))\n",
        "    # calculating the number of data points that are misclassified\n",
        "    print(\"Number of mis-classified points :\", np.count_nonzero((pred_y- test_y))/test_y.shape[0])\n",
        "    plot_confusion_matrix(test_y, pred_y)"
      ],
      "execution_count": 57,
      "outputs": []
    },
    {
      "cell_type": "code",
      "metadata": {
        "id": "XmI-EZ-XOQyv"
      },
      "source": [
        "def report_log_loss(train_x, train_y, test_x, test_y,  clf):\n",
        "    clf.fit(train_x, train_y)\n",
        "    sig_clf = CalibratedClassifierCV(clf, method=\"sigmoid\")\n",
        "    sig_clf.fit(train_x, train_y)\n",
        "    sig_clf_probs = sig_clf.predict_proba(test_x)\n",
        "    return log_loss(test_y, sig_clf_probs, eps=1e-15)"
      ],
      "execution_count": 58,
      "outputs": []
    },
    {
      "cell_type": "code",
      "metadata": {
        "id": "m68G02CbOQyw"
      },
      "source": [
        "# this function will be used just for naive bayes\n",
        "# for the given indices, we will print the name of the features\n",
        "# and we will check whether the feature present in the test point text or not\n",
        "def get_impfeature_names(indices, text, gene, var, no_features):\n",
        "    gene_count_vec = CountVectorizer()\n",
        "    var_count_vec = CountVectorizer()\n",
        "    text_count_vec = CountVectorizer(min_df=3)\n",
        "    \n",
        "    gene_vec = gene_count_vec.fit(train_df['Gene'])\n",
        "    var_vec  = var_count_vec.fit(train_df['Variation'])\n",
        "    text_vec = text_count_vec.fit(train_df['TEXT'])\n",
        "    \n",
        "    fea1_len = len(gene_vec.get_feature_names())\n",
        "    fea2_len = len(var_count_vec.get_feature_names())\n",
        "    \n",
        "    word_present = 0\n",
        "    for i,v in enumerate(indices):\n",
        "        if (v < fea1_len):\n",
        "            word = gene_vec.get_feature_names()[v]\n",
        "            yes_no = True if word == gene else False\n",
        "            if yes_no:\n",
        "                word_present += 1\n",
        "                print(i, \"Gene feature [{}] present in test data point [{}]\".format(word,yes_no))\n",
        "        elif (v < fea1_len+fea2_len):\n",
        "            word = var_vec.get_feature_names()[v-(fea1_len)]\n",
        "            yes_no = True if word == var else False\n",
        "            if yes_no:\n",
        "                word_present += 1\n",
        "                print(i, \"variation feature [{}] present in test data point [{}]\".format(word,yes_no))\n",
        "        else:\n",
        "            word = text_vec.get_feature_names()[v-(fea1_len+fea2_len)]\n",
        "            yes_no = True if word in text.split() else False\n",
        "            if yes_no:\n",
        "                word_present += 1\n",
        "                print(i, \"Text feature [{}] present in test data point [{}]\".format(word,yes_no))\n",
        "\n",
        "    print(\"Out of the top \",no_features,\" features \", word_present, \"are present in query point\")"
      ],
      "execution_count": 59,
      "outputs": []
    },
    {
      "cell_type": "markdown",
      "metadata": {
        "id": "Gd7PORPUOQyy"
      },
      "source": [
        "<p style=\"font-size:24px;text-align:Center\"> <b>Stacking the three types of features </b><p>"
      ]
    },
    {
      "cell_type": "code",
      "metadata": {
        "id": "W1VYFJb_OQyy"
      },
      "source": [
        "# merging gene, variance and text features\n",
        "\n",
        "# building train, test and cross validation data sets\n",
        "# a = [[1, 2], \n",
        "#      [3, 4]]\n",
        "# b = [[4, 5], \n",
        "#      [6, 7]]\n",
        "# hstack(a, b) = [[1, 2, 4, 5],\n",
        "#                [ 3, 4, 6, 7]]\n",
        "\n",
        "train_gene_var_onehotCoding = hstack((train_gene_feature_onehotCoding,train_variation_feature_onehotCoding))\n",
        "test_gene_var_onehotCoding = hstack((test_gene_feature_onehotCoding,test_variation_feature_onehotCoding))\n",
        "cv_gene_var_onehotCoding = hstack((cv_gene_feature_onehotCoding,cv_variation_feature_onehotCoding))\n",
        "\n",
        "train_x_onehotCoding = hstack((train_gene_var_onehotCoding, train_text_feature_onehotCoding)).tocsr()\n",
        "train_y = np.array(list(train_df['Class']))\n",
        "\n",
        "test_x_onehotCoding = hstack((test_gene_var_onehotCoding, test_text_feature_onehotCoding)).tocsr()\n",
        "test_y = np.array(list(test_df['Class']))\n",
        "\n",
        "cv_x_onehotCoding = hstack((cv_gene_var_onehotCoding, cv_text_feature_onehotCoding)).tocsr()\n",
        "cv_y = np.array(list(cv_df['Class']))"
      ],
      "execution_count": 60,
      "outputs": []
    },
    {
      "cell_type": "code",
      "metadata": {
        "id": "dmSks_ifOQyz",
        "colab": {
          "base_uri": "https://localhost:8080/"
        },
        "outputId": "20d78e55-04e8-408d-d1aa-08f52886f1fd"
      },
      "source": [
        "print(\"One hot encoding features :\")\n",
        "print(\"(number of data points * number of features) in train data = \", train_x_onehotCoding.shape)\n",
        "print(\"(number of data points * number of features) in test data = \", test_x_onehotCoding.shape)\n",
        "print(\"(number of data points * number of features) in cross validation data =\", cv_x_onehotCoding.shape)"
      ],
      "execution_count": 61,
      "outputs": [
        {
          "output_type": "stream",
          "name": "stdout",
          "text": [
            "One hot encoding features :\n",
            "(number of data points * number of features) in train data =  (2124, 56243)\n",
            "(number of data points * number of features) in test data =  (665, 56243)\n",
            "(number of data points * number of features) in cross validation data = (532, 56243)\n"
          ]
        }
      ]
    },
    {
      "cell_type": "code",
      "metadata": {
        "id": "xR1gJ8GQ4shC"
      },
      "source": [
        "\n",
        "train_gene_var_responseCoding = np.hstack((train_gene_feature_responseCoding,train_variation_feature_responseCoding))\n",
        "test_gene_var_responseCoding = np.hstack((test_gene_feature_responseCoding,test_variation_feature_responseCoding))\n",
        "cv_gene_var_responseCoding = np.hstack((cv_gene_feature_responseCoding,cv_variation_feature_responseCoding))\n",
        "\n",
        "train_x_responseCoding = np.hstack((train_gene_var_responseCoding, train_text_feature_responseCoding))\n",
        "test_x_responseCoding = np.hstack((test_gene_var_responseCoding, test_text_feature_responseCoding))\n",
        "cv_x_responseCoding = np.hstack((cv_gene_var_responseCoding, cv_text_feature_responseCoding))\n"
      ],
      "execution_count": 62,
      "outputs": []
    },
    {
      "cell_type": "code",
      "metadata": {
        "id": "gqhwbE-ZOQy1",
        "colab": {
          "base_uri": "https://localhost:8080/"
        },
        "outputId": "73834269-c1fd-4d0e-c33e-16fe8088e97a"
      },
      "source": [
        "print(\" Response encoding features :\")\n",
        "print(\"(number of data points * number of features) in train data = \", train_x_responseCoding.shape)\n",
        "print(\"(number of data points * number of features) in test data = \", test_x_responseCoding.shape)\n",
        "print(\"(number of data points * number of features) in cross validation data =\", cv_x_responseCoding.shape)"
      ],
      "execution_count": 63,
      "outputs": [
        {
          "output_type": "stream",
          "name": "stdout",
          "text": [
            " Response encoding features :\n",
            "(number of data points * number of features) in train data =  (2124, 27)\n",
            "(number of data points * number of features) in test data =  (665, 27)\n",
            "(number of data points * number of features) in cross validation data = (532, 27)\n"
          ]
        }
      ]
    },
    {
      "cell_type": "markdown",
      "metadata": {
        "id": "hs4v7Fc1OQzj"
      },
      "source": [
        "<h2>4.3. Logistic Regression</h2>"
      ]
    },
    {
      "cell_type": "markdown",
      "metadata": {
        "id": "Hj1NGUOnOQzj"
      },
      "source": [
        "<h3>4.3.1. With Class balancing</h3>"
      ]
    },
    {
      "cell_type": "markdown",
      "metadata": {
        "id": "_OsvP1C6OQzk"
      },
      "source": [
        "<h4>4.3.1.1. Hyper paramter tuning</h4>"
      ]
    },
    {
      "cell_type": "code",
      "metadata": {
        "id": "6gknPIAJOQzl",
        "outputId": "41a7232d-4ba6-4295-f77f-25740cf89952",
        "colab": {
          "base_uri": "https://localhost:8080/",
          "height": 659
        }
      },
      "source": [
        "alpha = [10 ** x for x in range(-6, 3)]\n",
        "cv_log_error_array = []\n",
        "for i in alpha:\n",
        "    print(\"for alpha =\", i)\n",
        "    clf = SGDClassifier(class_weight='balanced', alpha=i, penalty='l2', loss='log', random_state=42)\n",
        "    clf.fit(train_x_onehotCoding, train_y)\n",
        "    sig_clf = CalibratedClassifierCV(clf, method=\"sigmoid\")\n",
        "    sig_clf.fit(train_x_onehotCoding, train_y)\n",
        "    sig_clf_probs = sig_clf.predict_proba(cv_x_onehotCoding)\n",
        "    cv_log_error_array.append(log_loss(cv_y, sig_clf_probs, labels=clf.classes_, eps=1e-15))\n",
        "    # to avoid rounding error while multiplying probabilites we use log-probability estimates\n",
        "    print(\"Log Loss :\",log_loss(cv_y, sig_clf_probs)) \n",
        "\n",
        "fig, ax = plt.subplots()\n",
        "ax.plot(alpha, cv_log_error_array,c='g')\n",
        "for i, txt in enumerate(np.round(cv_log_error_array,3)):\n",
        "    ax.annotate((alpha[i],str(txt)), (alpha[i],cv_log_error_array[i]))\n",
        "plt.grid()\n",
        "plt.title(\"Cross Validation Error for each alpha\")\n",
        "plt.xlabel(\"Alpha i's\")\n",
        "plt.ylabel(\"Error measure\")\n",
        "plt.show()\n",
        "\n",
        "\n",
        "best_alpha = np.argmin(cv_log_error_array)\n",
        "clf = SGDClassifier(class_weight='balanced', alpha=alpha[best_alpha], penalty='l2', loss='log', random_state=42)\n",
        "clf.fit(train_x_onehotCoding, train_y)\n",
        "sig_clf = CalibratedClassifierCV(clf, method=\"sigmoid\")\n",
        "sig_clf.fit(train_x_onehotCoding, train_y)\n",
        "\n",
        "predict_y = sig_clf.predict_proba(train_x_onehotCoding)\n",
        "print('For values of best alpha = ', alpha[best_alpha], \"The train log loss is:\",log_loss(y_train, predict_y, labels=clf.classes_, eps=1e-15))\n",
        "predict_y = sig_clf.predict_proba(cv_x_onehotCoding)\n",
        "print('For values of best alpha = ', alpha[best_alpha], \"The cross validation log loss is:\",log_loss(y_cv, predict_y, labels=clf.classes_, eps=1e-15))\n",
        "predict_y = sig_clf.predict_proba(test_x_onehotCoding)\n",
        "print('For values of best alpha = ', alpha[best_alpha], \"The test log loss is:\",log_loss(y_test, predict_y, labels=clf.classes_, eps=1e-15))"
      ],
      "execution_count": 64,
      "outputs": [
        {
          "output_type": "stream",
          "name": "stdout",
          "text": [
            "for alpha = 1e-06\n",
            "Log Loss : 1.3698954458319375\n",
            "for alpha = 1e-05\n",
            "Log Loss : 1.3354821385887508\n",
            "for alpha = 0.0001\n",
            "Log Loss : 1.2205176762430816\n",
            "for alpha = 0.001\n",
            "Log Loss : 1.236077656774642\n",
            "for alpha = 0.01\n",
            "Log Loss : 1.2491505152976445\n",
            "for alpha = 0.1\n",
            "Log Loss : 1.5645255842262396\n",
            "for alpha = 1\n",
            "Log Loss : 1.7722463657419367\n",
            "for alpha = 10\n",
            "Log Loss : 1.7949377549638907\n",
            "for alpha = 100\n",
            "Log Loss : 1.797172696533514\n"
          ]
        },
        {
          "output_type": "display_data",
          "data": {
            "image/png": "[encoded data removed]",
            "text/plain": [
              "<Figure size 432x288 with 1 Axes>"
            ]
          },
          "metadata": {
            "needs_background": "light"
          }
        },
        {
          "output_type": "stream",
          "name": "stdout",
          "text": [
            "For values of best alpha =  0.0001 The train log loss is: 0.469785592696123\n",
            "For values of best alpha =  0.0001 The cross validation log loss is: 1.2205176762430816\n",
            "For values of best alpha =  0.0001 The test log loss is: 1.164429050218353\n"
          ]
        }
      ]
    },
    {
      "cell_type": "markdown",
      "metadata": {
        "id": "d6sk6Z7NOQzp"
      },
      "source": [
        "<h4>4.3.1.2. Testing the model with best hyper paramters</h4>"
      ]
    },
    {
      "cell_type": "code",
      "metadata": {
        "scrolled": false,
        "id": "HEeyfXMIOQzp",
        "outputId": "cb711afc-4f7d-4fa4-f4bd-549e5533338e",
        "colab": {
          "base_uri": "https://localhost:8080/",
          "height": 1000
        }
      },
      "source": [
        "clf = SGDClassifier(class_weight='balanced', alpha=alpha[best_alpha], penalty='l2', loss='log', random_state=42)\n",
        "predict_and_plot_confusion_matrix(train_x_onehotCoding, train_y, cv_x_onehotCoding, cv_y, clf)"
      ],
      "execution_count": 65,
      "outputs": [
        {
          "output_type": "stream",
          "name": "stdout",
          "text": [
            "Log loss : 1.2205176762430816\n",
            "Number of mis-classified points : 0.37593984962406013\n",
            "-------------------- Confusion matrix --------------------\n"
          ]
        },
        {
          "output_type": "display_data",
          "data": {
            "image/png": "[encoded data removed]",
            "text/plain": [
              "<Figure size 1440x504 with 2 Axes>"
            ]
          },
          "metadata": {
            "needs_background": "light"
          }
        },
        {
          "output_type": "stream",
          "name": "stdout",
          "text": [
            "-------------------- Precision matrix (Columm Sum=1) --------------------\n"
          ]
        },
        {
          "output_type": "display_data",
          "data": {
            "image/png": "[encoded data removed]",
            "text/plain": [
              "<Figure size 1440x504 with 2 Axes>"
            ]
          },
          "metadata": {
            "needs_background": "light"
          }
        },
        {
          "output_type": "stream",
          "name": "stdout",
          "text": [
            "-------------------- Recall matrix (Row sum=1) --------------------\n"
          ]
        },
        {
          "output_type": "display_data",
          "data": {
            "image/png": "[encoded data removed]",
            "text/plain": [
              "<Figure size 1440x504 with 2 Axes>"
            ]
          },
          "metadata": {
            "needs_background": "light"
          }
        }
      ]
    },
    {
      "cell_type": "markdown",
      "metadata": {
        "id": "P9qgkiEwOQzq"
      },
      "source": [
        "<h4>4.3.1.3. Feature Importance</h4>"
      ]
    },
    {
      "cell_type": "code",
      "metadata": {
        "id": "cAN-uQIUOQzr"
      },
      "source": [
        "def get_imp_feature_names(text, indices, removed_ind = []):\n",
        "    word_present = 0\n",
        "    tabulte_list = []\n",
        "    incresingorder_ind = 0\n",
        "    for i in indices:\n",
        "        if i < train_gene_feature_onehotCoding.shape[1]:\n",
        "            tabulte_list.append([incresingorder_ind, \"Gene\", \"Yes\"])\n",
        "        elif i< 18:\n",
        "            tabulte_list.append([incresingorder_ind,\"Variation\", \"Yes\"])\n",
        "        if ((i > 17) & (i not in removed_ind)) :\n",
        "            word = train_text_features[i]\n",
        "            yes_no = True if word in text.split() else False\n",
        "            if yes_no:\n",
        "                word_present += 1\n",
        "            tabulte_list.append([incresingorder_ind,train_text_features[i], yes_no])\n",
        "        incresingorder_ind += 1\n",
        "    print(word_present, \"most importent features are present in our query point\")\n",
        "    print(\"-\"*50)\n",
        "    print(\"The features that are most importent of the \",predicted_cls[0],\" class:\")\n",
        "    print (tabulate(tabulte_list, headers=[\"Index\",'Feature name', 'Present or Not']))"
      ],
      "execution_count": 66,
      "outputs": []
    },
    {
      "cell_type": "markdown",
      "metadata": {
        "id": "6UMOPzp5OQzs"
      },
      "source": [
        "<h5>4.3.1.3.1. Correctly Classified point</h5>"
      ]
    },
    {
      "cell_type": "code",
      "metadata": {
        "scrolled": false,
        "id": "vrELublWOQzs",
        "outputId": "6e19cc62-f6e9-4588-9dda-761a75b8cd97",
        "colab": {
          "base_uri": "https://localhost:8080/"
        }
      },
      "source": [
        "# from tabulate import tabulate\n",
        "clf = SGDClassifier(class_weight='balanced', alpha=alpha[best_alpha], penalty='l2', loss='log', random_state=42)\n",
        "clf.fit(train_x_onehotCoding,train_y)\n",
        "test_point_index = 1\n",
        "no_feature = 500\n",
        "predicted_cls = sig_clf.predict(test_x_onehotCoding[test_point_index])\n",
        "print(\"Predicted Class :\", predicted_cls[0])\n",
        "print(\"Predicted Class Probabilities:\", np.round(sig_clf.predict_proba(test_x_onehotCoding[test_point_index]),4))\n",
        "print(\"Actual Class :\", test_y[test_point_index])\n",
        "indices = np.argsort(-1*abs(clf.coef_))[predicted_cls-1][:,:no_feature]\n",
        "print(\"-\"*50)\n",
        "get_impfeature_names(indices[0], test_df['TEXT'].iloc[test_point_index],test_df['Gene'].iloc[test_point_index],test_df['Variation'].iloc[test_point_index], no_feature)"
      ],
      "execution_count": 67,
      "outputs": [
        {
          "output_type": "stream",
          "name": "stdout",
          "text": [
            "Predicted Class : 7\n",
            "Predicted Class Probabilities: [[5.030e-02 1.630e-02 0.000e+00 6.740e-02 4.000e-04 0.000e+00 8.403e-01\n",
            "  1.310e-02 1.210e-02]]\n",
            "Actual Class : 4\n",
            "--------------------------------------------------\n",
            "386 Text feature [transformed] present in test data point [True]\n",
            "461 Text feature [colo] present in test data point [True]\n",
            "475 Text feature [constitutive] present in test data point [True]\n",
            "486 Text feature [expressing] present in test data point [True]\n",
            "487 Text feature [dimerized] present in test data point [True]\n",
            "Out of the top  500  features  5 are present in query point\n"
          ]
        }
      ]
    },
    {
      "cell_type": "markdown",
      "metadata": {
        "id": "ONkuybENOQzu"
      },
      "source": [
        "<h5>4.3.1.3.2. Incorrectly Classified point</h5>"
      ]
    },
    {
      "cell_type": "code",
      "metadata": {
        "id": "YoIr_YdaOQzv",
        "outputId": "cc256d62-23c4-4871-f0fe-c434af69e943",
        "colab": {
          "base_uri": "https://localhost:8080/"
        }
      },
      "source": [
        "test_point_index = 100\n",
        "no_feature = 500\n",
        "predicted_cls = sig_clf.predict(test_x_onehotCoding[test_point_index])\n",
        "print(\"Predicted Class :\", predicted_cls[0])\n",
        "print(\"Predicted Class Probabilities:\", np.round(sig_clf.predict_proba(test_x_onehotCoding[test_point_index]),4))\n",
        "print(\"Actual Class :\", test_y[test_point_index])\n",
        "indices = np.argsort(-1*abs(clf.coef_))[predicted_cls-1][:,:no_feature]\n",
        "print(\"-\"*50)\n",
        "get_impfeature_names(indices[0], test_df['TEXT'].iloc[test_point_index],test_df['Gene'].iloc[test_point_index],test_df['Variation'].iloc[test_point_index], no_feature)"
      ],
      "execution_count": 68,
      "outputs": [
        {
          "output_type": "stream",
          "name": "stdout",
          "text": [
            "Predicted Class : 7\n",
            "Predicted Class Probabilities: [[0.0698 0.1019 0.0188 0.1158 0.0363 0.0229 0.6212 0.0049 0.0084]]\n",
            "Actual Class : 7\n",
            "--------------------------------------------------\n",
            "394 Text feature [ex18] present in test data point [True]\n",
            "Out of the top  500  features  1 are present in query point\n"
          ]
        }
      ]
    }
  ]
}